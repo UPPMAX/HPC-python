{
 "cells": [
  {
   "cell_type": "markdown",
   "id": "62df78c7-31c3-4125-a050-e604d4c97c9a",
   "metadata": {},
   "source": [
    "# Pandas Exercises\n",
    "Here you can test your comprehension of the Pandas introductory material. As with most coding packages, it is more important that you understand enough to know what to look for if you get stuck than it is to actually memorize all the methods, attributes, and syntax. You are welcome to consult the lecture material and/or the [official documentation](https://pandas.pydata.org/docs/user_guide/10min.html) whenever you want.\n",
    "\n",
    "Just do what you can figure out how to do with the time you have.\n",
    "\n",
    "This exercise is meant to simulate a semi-realistic workflow on a real data set. You'll be using data on various metrics of the COVID19 pandemic throughout Italy in 2020.\n",
    "\n",
    "0. **Start by importing Pandas and NumPy** (to make sure you have the right modules loaded):"
   ]
  },
  {
   "cell_type": "code",
   "execution_count": 43,
   "id": "e14561c8-4655-49e0-8732-2dbcc3130960",
   "metadata": {
    "tags": []
   },
   "outputs": [],
   "source": [
    "# import numpy and pandas\n",
    "import pandas as pd\n",
    "import numpy as np"
   ]
  },
  {
   "cell_type": "markdown",
   "id": "9b9a8198-1cac-4b89-8a1f-13a33dab2e50",
   "metadata": {},
   "source": [
    "1. Load the file `covid19_italy_region.csv` into a DataFrame called `it_covid19`. Use the appropriate kwargs to set the leftmost column as the row indexes. You may refer to official documentation on file readers as needed."
   ]
  },
  {
   "cell_type": "code",
   "execution_count": 131,
   "id": "d78a4cf4-21d3-4549-988f-33827e4668b2",
   "metadata": {
    "tags": []
   },
   "outputs": [],
   "source": [
    "# load 'covid19_italy_region.csv' into a DataFrame\n",
    "it_covid19 = pd.read_csv('covid19_italy_region.csv', index_col=0)"
   ]
  },
  {
   "cell_type": "markdown",
   "id": "75bab724-678c-4d3b-8b90-356da11a8b6d",
   "metadata": {},
   "source": [
    "2. Inspect `it_covid19` by printing the following (hint: each prompt requires a different 1-word command):\n",
    "   \n",
    "    a. The **last** 5 rows of the DataFrame (fewer 0s than the first 5)\n",
    "   \n",
    "    b. The table listing the names, number of non-null entries, and data types of each column\n",
    "\n",
    "    c. The number of unique values in each column"
   ]
  },
  {
   "cell_type": "code",
   "execution_count": 133,
   "id": "1b7d0d68-3459-4d64-9826-9aa7d71f8a24",
   "metadata": {
    "tags": []
   },
   "outputs": [
    {
     "name": "stdout",
     "output_type": "stream",
     "text": [
      "                     Date Country  RegionCode     RegionName   Latitude  \\\n",
      "SNo                                                                       \n",
      "6022  2020-12-06T17:00:00     ITA          19        Sicilia  38.115697   \n",
      "6023  2020-12-06T17:00:00     ITA           9        Toscana  43.769231   \n",
      "6024  2020-12-06T17:00:00     ITA          10         Umbria  43.106758   \n",
      "6025  2020-12-06T17:00:00     ITA           2  Valle d'Aosta  45.737503   \n",
      "6026  2020-12-06T17:00:00     ITA           5         Veneto  45.434905   \n",
      "\n",
      "      Longitude  HospitalizedPatients  IntensiveCarePatients  \\\n",
      "SNo                                                            \n",
      "6022  13.362357                  1367                    213   \n",
      "6023  11.255889                  1360                    252   \n",
      "6024  12.388247                   332                     60   \n",
      "6025   7.320149                   102                      8   \n",
      "6026  12.338452                  2508                    308   \n",
      "\n",
      "      TotalHospitalizedPatients  HomeConfinement  CurrentPositiveCases  \\\n",
      "SNo                                                                      \n",
      "6022                       1580            38166                 39746   \n",
      "6023                       1612            27587                 29199   \n",
      "6024                        392             5673                  6065   \n",
      "6025                        110              877                   987   \n",
      "6026                       2816            73988                 76804   \n",
      "\n",
      "      NewPositiveCases  Recovered  Deaths  TotalPositiveCases  TestsPerformed  \n",
      "SNo                                                                            \n",
      "6022              1022      29984    1759               71489        692062.0  \n",
      "6023               753      76331    2867              108397        983103.0  \n",
      "6024               234      18619     460               25144        231538.0  \n",
      "6025                34       5406     333                6726         34644.0  \n",
      "6026              3444      84235    4210              165249       1090932.0  \n"
     ]
    }
   ],
   "source": [
    "#a. print last 5 rows\n",
    "print(it_covid19.tail())"
   ]
  },
  {
   "cell_type": "code",
   "execution_count": 49,
   "id": "df74c117-3b52-4716-85f4-39ff1692a4e2",
   "metadata": {
    "tags": []
   },
   "outputs": [
    {
     "name": "stdout",
     "output_type": "stream",
     "text": [
      "<class 'pandas.core.frame.DataFrame'>\n",
      "Index: 6027 entries, 0 to 6026\n",
      "Data columns (total 16 columns):\n",
      " #   Column                     Non-Null Count  Dtype  \n",
      "---  ------                     --------------  -----  \n",
      " 0   Date                       6027 non-null   object \n",
      " 1   Country                    6027 non-null   object \n",
      " 2   RegionCode                 6027 non-null   int64  \n",
      " 3   RegionName                 6027 non-null   object \n",
      " 4   Latitude                   6027 non-null   float64\n",
      " 5   Longitude                  6027 non-null   float64\n",
      " 6   HospitalizedPatients       6027 non-null   int64  \n",
      " 7   IntensiveCarePatients      6027 non-null   int64  \n",
      " 8   TotalHospitalizedPatients  6027 non-null   int64  \n",
      " 9   HomeConfinement            6027 non-null   int64  \n",
      " 10  CurrentPositiveCases       6027 non-null   int64  \n",
      " 11  NewPositiveCases           6027 non-null   int64  \n",
      " 12  Recovered                  6027 non-null   int64  \n",
      " 13  Deaths                     6027 non-null   int64  \n",
      " 14  TotalPositiveCases         6027 non-null   int64  \n",
      " 15  TestsPerformed             4872 non-null   float64\n",
      "dtypes: float64(3), int64(10), object(3)\n",
      "memory usage: 800.5+ KB\n",
      "None\n"
     ]
    }
   ],
   "source": [
    "#b. print column info table\n",
    "print(it_covid19.info())"
   ]
  },
  {
   "cell_type": "code",
   "execution_count": 51,
   "id": "bf7b7df6-c26e-43de-b06d-b488ff812603",
   "metadata": {
    "tags": []
   },
   "outputs": [
    {
     "name": "stdout",
     "output_type": "stream",
     "text": [
      "Date                          287\n",
      "Country                         1\n",
      "RegionCode                     21\n",
      "RegionName                     21\n",
      "Latitude                       21\n",
      "Longitude                      21\n",
      "HospitalizedPatients         1451\n",
      "IntensiveCarePatients         462\n",
      "TotalHospitalizedPatients    1515\n",
      "HomeConfinement              3211\n",
      "CurrentPositiveCases         3358\n",
      "NewPositiveCases             1086\n",
      "Recovered                    4128\n",
      "Deaths                       1998\n",
      "TotalPositiveCases           4644\n",
      "TestsPerformed               4835\n",
      "dtype: int64\n"
     ]
    }
   ],
   "source": [
    "#c. print number of unique values in each column\n",
    "print(it_covid19.nunique())"
   ]
  },
  {
   "cell_type": "markdown",
   "id": "b776e939-0e00-4f12-9516-fc603f92dac1",
   "metadata": {},
   "source": [
    "3. As you can see from the previous question, there is only 1 value in the `Country` column, and you can safely assume the `RegionCode`, `RegionName`, `Latitude`, and `Longitude` columns are degenerate. **Drop the `Country`, `RegionCode`, `Latitude`, and `Longitude` columns from `it_covid19`, all in-place, but keep the `RegionName` column.** Make sure you specify the correct axis when you drop!"
   ]
  },
  {
   "cell_type": "code",
   "execution_count": 53,
   "id": "d1436f19-b106-4709-b52a-a1428a521108",
   "metadata": {
    "tags": []
   },
   "outputs": [],
   "source": [
    "# drop Country, RegionCode, Latitude, and Longitude in-place\n",
    "it_covid19.drop(['Country', 'RegionCode', 'Latitude','Longitude'], axis=1, inplace=True)"
   ]
  },
  {
   "cell_type": "markdown",
   "id": "e4094615-c5bb-4788-924d-838ee0d5c4f0",
   "metadata": {},
   "source": [
    "For the next couple of problems, there is a tab-separated text table of the regions of Italy, their March 2020 populations (except P. A. Trento and Bolzano, whose numbers are from 2021), and population densities provided. Getting time-resolved population data was more trouble than these exercises warrant, so this won't be very scientific, but you will get some (more) experience with the `groupby()`, `compare()`, and `apply()` methods.\n",
    " \n",
    "4. Load the file `'ita_pop_by_reg.txt'` with `read_csv()` (note that the delimiters in this text file are tabs, not commas) into a variable called `it_pop`. Don't set anything as the Index yet, but it's a good idea to view the resulting DataFrame."
   ]
  },
  {
   "cell_type": "code",
   "execution_count": 61,
   "id": "d9979d11-49e4-489e-9af9-cc43f84097c3",
   "metadata": {
    "tags": []
   },
   "outputs": [
    {
     "name": "stdout",
     "output_type": "stream",
     "text": [
      "                   Region  2020_mar_pop  pop_density_sq_km\n",
      "0                 Abruzzo       1292126                118\n",
      "1              Basilicata        552084                 54\n",
      "2                Calabria       1890094                121\n",
      "3                Campania       5704571                409\n",
      "4          Emilia-Romagna       4464643                197\n",
      "5   Friuli-Venezia Giulia       1204970                151\n",
      "6                   Lazio       5750888                332\n",
      "7                 Liguria       1523084                278\n",
      "8               Lombardia      10026900                418\n",
      "9                  Marche       1510898                158\n",
      "10                 Molise        299563                 65\n",
      "11           P.A. Bolzano        531178                 72\n",
      "12            P.A. Trento        541098                 87\n",
      "13               Piemonte       4308215                168\n",
      "14                 Puglia       3947623                200\n",
      "15               Sardegna       1609313                 66\n",
      "16                Sicilia       4866505                186\n",
      "17                Toscana       3689590                160\n",
      "18                 Umbria        869169                102\n",
      "19          Valle d'Aosta        124830                 38\n",
      "20                 Veneto       4876121                265\n"
     ]
    }
   ],
   "source": [
    "#4. Load 'ita_pop_by_reg.txt'\n",
    "it_pop = pd.read_csv('ita_pop_by_reg.txt', sep='\\t')\n",
    "print(it_pop)"
   ]
  },
  {
   "cell_type": "markdown",
   "id": "d91c52c6-4830-44fe-9795-6b3c85821bd4",
   "metadata": {},
   "source": [
    "5. Get the unique values of the `'RegionName'` column of the `it_covid19` DataFrame, convert the result to a Series (just plug it straight into the Pandas Series definition function), and `compare` them to the Region column of the table you just loaded. That whole sentence's worth of instructions can be done in one line. The `compare` method should return 1 subtle discrepancy."
   ]
  },
  {
   "cell_type": "code",
   "execution_count": 63,
   "id": "63543c5d-b642-4588-af4f-ce1eb233a9aa",
   "metadata": {
    "tags": []
   },
   "outputs": [
    {
     "name": "stdout",
     "output_type": "stream",
     "text": [
      "                    self                  other\n",
      "5  Friuli-Venezia Giulia  Friuli Venezia Giulia\n"
     ]
    }
   ],
   "source": [
    "# 5. compare series of 'RegionName' unique values in it_covid19 to it_pop['Region']\n",
    "print(it_pop['Region'].compare(pd.Series(it_covid19['RegionName'].unique())))"
   ]
  },
  {
   "cell_type": "markdown",
   "id": "b2422219-67bc-4293-8354-a0fe1962dad9",
   "metadata": {},
   "source": [
    "6. Use string vectorization to `replace` the problematic strings in the relevant column in your choice of one or the other DataFrame. Then rerun the `compare()` command above and make sure it comes back empty. (Hint: there's a reason \"replace\" is typeset as code.)"
   ]
  },
  {
   "cell_type": "code",
   "execution_count": 71,
   "id": "749224f4-7c51-4fe0-9a3c-e85f2746052a",
   "metadata": {
    "tags": []
   },
   "outputs": [
    {
     "name": "stdout",
     "output_type": "stream",
     "text": [
      "Empty DataFrame\n",
      "Columns: [self, other]\n",
      "Index: []\n"
     ]
    }
   ],
   "source": [
    "# replace the discrepant strings and double check\n",
    "it_covid19['RegionName']=it_covid19['RegionName'].str.replace('Friuli Venezia Giulia',\n",
    "                                                              'Friuli-Venezia Giulia')\n",
    "print(it_pop['Region'].compare(pd.Series(it_covid19['RegionName'].unique())))"
   ]
  },
  {
   "cell_type": "markdown",
   "id": "e7951ecf-477e-4de4-ba7e-aef48358578c",
   "metadata": {},
   "source": [
    "7. Group `it_covid19` by `'RegionName'` and print the maximum values for all the numeric columns for each group (don't forget, there's a kwarg you'll have to pass to `max()` to keep it from raising an error). The whole command should fit on one line."
   ]
  },
  {
   "cell_type": "code",
   "execution_count": 81,
   "id": "d8d17db4-6eac-49ea-b1cc-e9edcbf80bdd",
   "metadata": {
    "tags": []
   },
   "outputs": [
    {
     "name": "stdout",
     "output_type": "stream",
     "text": [
      "                       HospitalizedPatients  IntensiveCarePatients  \\\n",
      "RegionName                                                           \n",
      "Abruzzo                                 714                     77   \n",
      "Basilicata                              165                     30   \n",
      "Calabria                                435                     53   \n",
      "Campania                               2331                    227   \n",
      "Emilia-Romagna                         3944                    375   \n",
      "Friuli-Venezia Giulia                   652                     62   \n",
      "Lazio                                  3408                    364   \n",
      "Liguria                                1402                    179   \n",
      "Lombardia                             12077                   1381   \n",
      "Marche                                 1001                    169   \n",
      "Molise                                   69                     14   \n",
      "P.A. Bolzano                            487                     65   \n",
      "P.A. Trento                             436                     81   \n",
      "Piemonte                               5225                    453   \n",
      "Puglia                                 1693                    227   \n",
      "Sardegna                                616                     76   \n",
      "Sicilia                                1604                    253   \n",
      "Toscana                                1832                    298   \n",
      "Umbria                                  375                     78   \n",
      "Valle d'Aosta                           170                     27   \n",
      "Veneto                                 2654                    356   \n",
      "\n",
      "                       TotalHospitalizedPatients  HomeConfinement  \\\n",
      "RegionName                                                          \n",
      "Abruzzo                                      790            17415   \n",
      "Basilicata                                   185             6259   \n",
      "Calabria                                     482            10576   \n",
      "Campania                                    2532           102438   \n",
      "Emilia-Romagna                              4310            69514   \n",
      "Friuli-Venezia Giulia                        711            14482   \n",
      "Lazio                                       3762            90735   \n",
      "Liguria                                     1510            15589   \n",
      "Lombardia                                  13328           155066   \n",
      "Marche                                      1168            19458   \n",
      "Molise                                        78             2647   \n",
      "P.A. Bolzano                                 530            11186   \n",
      "P.A. Trento                                  478             2675   \n",
      "Piemonte                                    5618            73011   \n",
      "Puglia                                      1911            44018   \n",
      "Sardegna                                     680            14280   \n",
      "Sicilia                                     1847            38993   \n",
      "Toscana                                     2128            52083   \n",
      "Umbria                                       449            11129   \n",
      "Valle d'Aosta                                183             2199   \n",
      "Veneto                                      2963            78169   \n",
      "\n",
      "                       CurrentPositiveCases  NewPositiveCases  Recovered  \\\n",
      "RegionName                                                                 \n",
      "Abruzzo                               18192               939      12206   \n",
      "Basilicata                             6444               329       2397   \n",
      "Calabria                              11024               936       7533   \n",
      "Campania                             104786              4601      62060   \n",
      "Emilia-Romagna                        72526              2822      59432   \n",
      "Friuli-Venezia Giulia                 15173              1432      19401   \n",
      "Lazio                                 94211              2997      33422   \n",
      "Liguria                               17027              1209      40842   \n",
      "Lombardia                            164406             11489     289706   \n",
      "Marche                                20058               834      11008   \n",
      "Molise                                 2720               176       2438   \n",
      "P.A. Bolzano                          11675               820      13862   \n",
      "P.A. Trento                            3004               390      13995   \n",
      "Piemonte                              78406              5349     105127   \n",
      "Puglia                                45834              1884      16795   \n",
      "Sardegna                              14960               623       8695   \n",
      "Sicilia                               40730              1871      29984   \n",
      "Toscana                               54152              2787      76331   \n",
      "Umbria                                11572               783      18619   \n",
      "Valle d'Aosta                          2363               245       5406   \n",
      "Veneto                                80997              3980      84235   \n",
      "\n",
      "                       Deaths  TotalPositiveCases  TestsPerformed  \n",
      "RegionName                                                         \n",
      "Abruzzo                   980               30274        246492.0  \n",
      "Basilicata                175                8940        160485.0  \n",
      "Calabria                  343               18537        370059.0  \n",
      "Campania                 1990              165293       1153658.0  \n",
      "Emilia-Romagna           6162              133761       1115823.0  \n",
      "Friuli-Venezia Giulia    1035               35467        296752.0  \n",
      "Lazio                    2622              130255       1882721.0  \n",
      "Liguria                  2521               53779        298052.0  \n",
      "Lombardia               23024              429109       2415099.0  \n",
      "Marche                   1327               32393        253076.0  \n",
      "Molise                    135                5286         90383.0  \n",
      "P.A. Bolzano              578               25361        152109.0  \n",
      "P.A. Trento               691               17103        141146.0  \n",
      "Piemonte                 6623              177788       1000611.0  \n",
      "Puglia                   1712               64341        567857.0  \n",
      "Sardegna                  531               24186        333552.0  \n",
      "Sicilia                  1759               71489        692062.0  \n",
      "Toscana                  2867              108397        983103.0  \n",
      "Umbria                    460               25144        231538.0  \n",
      "Valle d'Aosta             333                6726         34644.0  \n",
      "Veneto                   4210              165249       1090932.0  \n"
     ]
    }
   ],
   "source": [
    "print(it_covid19.groupby('RegionName').max(numeric_only=True))"
   ]
  },
  {
   "cell_type": "markdown",
   "id": "e5f34c1d-abc8-4784-88ce-fb2725f30c28",
   "metadata": {},
   "source": [
    "8. Challenge time! We're going to use the populations from `it_pop` to get an estimated running percentage of the population that had been infected, assuming (probably incorrectly) this was too early in the pandemic for many reinfections to have occurred. We will use the `.apply()` function on the `it_covid19` DataFrame to divide the `'TotalPositiveCases` column by the Region's population to get an unadjusted cumulative per-capita infection rate converted to a percentage.\n",
    "\n",
    "    a. First, set the `\"Region\"` column of `it_pop` as the index of that DataFrame in-place.\n",
    "    \n",
    "    b. For the sake of time, most of the function you will have to use in the next step has been written for you. Fill in the remainder of the definition of function `per_cap()`.\n",
    "    \n",
    "    c. Using the `.apply()` function on the `it_covid19` DataFrame, divide the `'TotalPositiveCases` column by the Region's population to get an unadjusted cumulative per capita infection rate converted to a percentage. Set the result equal to a new column of DataFrame `it_covid19`, labelled `'TotCasesPct'` or something similarly informative.\n",
    "    \n",
    "    d. Group `it_covid19` by RegionName again and use `.nth()` to retrieve the last row of both the `RegionName` column and the new column for each Region."
   ]
  },
  {
   "cell_type": "code",
   "execution_count": 108,
   "id": "9936845f-2eb0-4765-bf59-56fbba724e7e",
   "metadata": {
    "tags": []
   },
   "outputs": [],
   "source": [
    "#8-a. Set Region as index of `it_pop`\n",
    "it_pop.set_index('Region', inplace=True)"
   ]
  },
  {
   "cell_type": "code",
   "execution_count": 110,
   "id": "d1b256c5-72a4-4b62-bb05-dca4dbfa0638",
   "metadata": {
    "tags": []
   },
   "outputs": [],
   "source": [
    "#8-b. Finish the per_cap function\n",
    "def per_cap(row):\n",
    "    pop=it_pop.loc[row['RegionName'],'2020_mar_pop']\n",
    "    return (row['TotalPositiveCases']/pop)*100."
   ]
  },
  {
   "cell_type": "code",
   "execution_count": 115,
   "id": "cae8cf94-2d86-490a-8bd3-b27f680331a8",
   "metadata": {
    "tags": []
   },
   "outputs": [],
   "source": [
    "#8-c. Apply the function column-wise and assign it to the column 'TotCasesPct'\n",
    "it_covid19['TotCasesPct'] = it_covid19.apply(per_cap,axis=1)"
   ]
  },
  {
   "cell_type": "code",
   "execution_count": 121,
   "id": "d5906099-0e29-481d-be42-c3d80e712b30",
   "metadata": {
    "tags": []
   },
   "outputs": [
    {
     "name": "stdout",
     "output_type": "stream",
     "text": [
      "                 RegionName  TotCasesPct\n",
      "SNo                                     \n",
      "6006                Abruzzo     2.342960\n",
      "6007             Basilicata     1.619319\n",
      "6008               Calabria     0.980745\n",
      "6009               Campania     2.897554\n",
      "6010         Emilia-Romagna     2.996007\n",
      "6011  Friuli-Venezia Giulia     2.943393\n",
      "6012                  Lazio     2.264955\n",
      "6013                Liguria     3.530928\n",
      "6014              Lombardia     4.279578\n",
      "6015                 Marche     2.143957\n",
      "6016                 Molise     1.764570\n",
      "6017           P.A. Bolzano     4.774482\n",
      "6018            P.A. Trento     3.160795\n",
      "6019               Piemonte     4.126721\n",
      "6020                 Puglia     1.629867\n",
      "6021               Sardegna     1.502877\n",
      "6022                Sicilia     1.469001\n",
      "6023                Toscana     2.937915\n",
      "6024                 Umbria     2.892878\n",
      "6025          Valle d'Aosta     5.388128\n",
      "6026                 Veneto     3.388944\n"
     ]
    }
   ],
   "source": [
    "#8-d. Group the results by RegionName again and print the n=-1 row of 'TotCasesPct' by Region\n",
    "print(it_covid19.groupby('RegionName')[['RegionName','TotCasesPct']].nth(-1))"
   ]
  },
  {
   "cell_type": "markdown",
   "id": "c0c2ef8e-7a09-41f4-a6f3-76912b27cf22",
   "metadata": {},
   "source": [
    "### That's all for now! Good job!"
   ]
  },
  {
   "cell_type": "code",
   "execution_count": null,
   "id": "cc295159-309e-4b31-94b1-3cb6743e7ff6",
   "metadata": {},
   "outputs": [],
   "source": []
  }
 ],
 "metadata": {
  "kernelspec": {
   "display_name": "Python 3 (ipykernel)",
   "language": "python",
   "name": "python3"
  },
  "language_info": {
   "codemirror_mode": {
    "name": "ipython",
    "version": 3
   },
   "file_extension": ".py",
   "mimetype": "text/x-python",
   "name": "python",
   "nbconvert_exporter": "python",
   "pygments_lexer": "ipython3",
   "version": "3.11.5"
  }
 },
 "nbformat": 4,
 "nbformat_minor": 5
}

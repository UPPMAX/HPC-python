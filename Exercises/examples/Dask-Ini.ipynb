{
 "cells": [
  {
   "cell_type": "markdown",
   "id": "617a5f3f-cbf0-4cb6-8035-ae5dd17eabf1",
   "metadata": {},
   "source": [
    "# Dealing with Data Frames\n",
    "\n",
    "## A. Using Pandas"
   ]
  },
  {
   "cell_type": "code",
   "execution_count": 1,
   "id": "7806d6aa-a8bb-4cb8-a0ee-6d215d4b74aa",
   "metadata": {},
   "outputs": [],
   "source": [
    "import pandas as pd\n",
    "import time"
   ]
  },
  {
   "cell_type": "code",
   "execution_count": 2,
   "id": "5ef2e8eb-72f2-45d3-b857-957f481f2e4b",
   "metadata": {},
   "outputs": [],
   "source": [
    "# Generate a large data frame\n",
    "df = pd.DataFrame({'A': range(1,20000001),'B': range(20000001,40000001)})\n",
    "df.to_csv('large_data_frame.csv', index=False)"
   ]
  },
  {
   "cell_type": "code",
   "execution_count": 2,
   "id": "ec66ab0f-3442-43ae-9d9a-8d3303829b8b",
   "metadata": {},
   "outputs": [
    {
     "name": "stdout",
     "output_type": "stream",
     "text": [
      "Pandas result: 200000010000000\n",
      "Pandas time: 2.807502508163452 seconds\n"
     ]
    }
   ],
   "source": [
    "# Time Pandas reading and summation\n",
    "start_time=time.time()\n",
    "df = pd.read_csv('large_data_frame.csv')\n",
    "result_pandas = df['A'].sum()\n",
    "end_time=time.time()\n",
    "\n",
    "# Print out the result and timing\n",
    "print(f\"Pandas result: {result_pandas}\")\n",
    "print(f\"Pandas time: {end_time-start_time} seconds\")"
   ]
  },
  {
   "cell_type": "markdown",
   "id": "3ab69d76-d24d-47a9-b938-57278e543eab",
   "metadata": {},
   "source": [
    "## B. Using Dask data frames "
   ]
  },
  {
   "cell_type": "code",
   "execution_count": 3,
   "id": "75dbf4a0-3a33-495f-84dc-0eb896fa4c2c",
   "metadata": {},
   "outputs": [],
   "source": [
    "import dask.dataframe as dd"
   ]
  },
  {
   "cell_type": "code",
   "execution_count": 4,
   "id": "55a16a9a-607e-4d2e-af55-b6cef988e235",
   "metadata": {},
   "outputs": [
    {
     "name": "stdout",
     "output_type": "stream",
     "text": [
      "Dask result: 200000010000000\n",
      "Dask time: 1.1678805351257324 seconds\n"
     ]
    }
   ],
   "source": [
    "# Time Dask data frame reading and summation\n",
    "start_time=time.time()\n",
    "ddf = dd.read_csv('large_data_frame.csv',blocksize=20e6)\n",
    "result_pandas = ddf['A'].sum().compute()\n",
    "end_time=time.time()\n",
    "\n",
    "# Print out th result and timing\n",
    "print(f\"Dask result: {result_pandas}\")\n",
    "print(f\"Dask time: {end_time-start_time} seconds\")"
   ]
  },
  {
   "cell_type": "code",
   "execution_count": 5,
   "id": "3c139338-bfc5-4ec8-b55d-ab3686f50f25",
   "metadata": {},
   "outputs": [
    {
     "data": {
      "text/html": [
       "<div><strong>Dask DataFrame Structure:</strong></div>\n",
       "<div>\n",
       "<style scoped>\n",
       "    .dataframe tbody tr th:only-of-type {\n",
       "        vertical-align: middle;\n",
       "    }\n",
       "\n",
       "    .dataframe tbody tr th {\n",
       "        vertical-align: top;\n",
       "    }\n",
       "\n",
       "    .dataframe thead th {\n",
       "        text-align: right;\n",
       "    }\n",
       "</style>\n",
       "<table border=\"1\" class=\"dataframe\">\n",
       "  <thead>\n",
       "    <tr style=\"text-align: right;\">\n",
       "      <th></th>\n",
       "      <th>A</th>\n",
       "      <th>B</th>\n",
       "    </tr>\n",
       "    <tr>\n",
       "      <th>npartitions=17</th>\n",
       "      <th></th>\n",
       "      <th></th>\n",
       "    </tr>\n",
       "  </thead>\n",
       "  <tbody>\n",
       "    <tr>\n",
       "      <th></th>\n",
       "      <td>int64</td>\n",
       "      <td>int64</td>\n",
       "    </tr>\n",
       "    <tr>\n",
       "      <th></th>\n",
       "      <td>...</td>\n",
       "      <td>...</td>\n",
       "    </tr>\n",
       "    <tr>\n",
       "      <th>...</th>\n",
       "      <td>...</td>\n",
       "      <td>...</td>\n",
       "    </tr>\n",
       "    <tr>\n",
       "      <th></th>\n",
       "      <td>...</td>\n",
       "      <td>...</td>\n",
       "    </tr>\n",
       "    <tr>\n",
       "      <th></th>\n",
       "      <td>...</td>\n",
       "      <td>...</td>\n",
       "    </tr>\n",
       "  </tbody>\n",
       "</table>\n",
       "</div>\n",
       "<div>Dask Name: read-csv, 1 graph layer</div>"
      ],
      "text/plain": [
       "Dask DataFrame Structure:\n",
       "                    A      B\n",
       "npartitions=17              \n",
       "                int64  int64\n",
       "                  ...    ...\n",
       "...               ...    ...\n",
       "                  ...    ...\n",
       "                  ...    ...\n",
       "Dask Name: read-csv, 1 graph layer"
      ]
     },
     "execution_count": 5,
     "metadata": {},
     "output_type": "execute_result"
    }
   ],
   "source": [
    "ddf"
   ]
  },
  {
   "cell_type": "markdown",
   "id": "9b900744-aa4f-480a-b3b3-89995de40c4b",
   "metadata": {},
   "source": [
    "# Dealing with large arrays\n",
    "\n",
    "## A. Using Numpy"
   ]
  },
  {
   "cell_type": "code",
   "execution_count": 6,
   "id": "1cc398de-92b4-4089-bf88-2afe0f789ef9",
   "metadata": {},
   "outputs": [],
   "source": [
    "import numpy as np"
   ]
  },
  {
   "cell_type": "code",
   "execution_count": 7,
   "id": "3896a461-a7a1-4ce5-88bf-aa417e71e2a4",
   "metadata": {},
   "outputs": [
    {
     "name": "stdout",
     "output_type": "stream",
     "text": [
      "NumPy result: 0.4999988994707882\n",
      "NumPy time: 0.16039705276489258 seconds\n"
     ]
    }
   ],
   "source": [
    "# Generate a large array\n",
    "data_size = 100000000\n",
    "numpy_array = np.random.random(data_size)\n",
    "\n",
    "# Timing Numpy computation\n",
    "start_time = time.time()\n",
    "result_numpy = np.mean(numpy_array)\n",
    "end_time = time.time()\n",
    "\n",
    "# Print out the results\n",
    "print(f\"NumPy result: {result_numpy}\")\n",
    "print(f\"NumPy time: {end_time - start_time} seconds\")"
   ]
  },
  {
   "cell_type": "markdown",
   "id": "3e019f2f-45f5-4e9a-8631-61b291817a7e",
   "metadata": {},
   "source": [
    "## B. Using Dask arrays"
   ]
  },
  {
   "cell_type": "code",
   "execution_count": 8,
   "id": "4623648a-903f-4360-b22b-b54a2fb8a3f4",
   "metadata": {},
   "outputs": [],
   "source": [
    "import dask.array as da"
   ]
  },
  {
   "cell_type": "code",
   "execution_count": 10,
   "id": "a50b1fdd-9888-4376-8a6a-9cf8fab4a28e",
   "metadata": {},
   "outputs": [
    {
     "name": "stdout",
     "output_type": "stream",
     "text": [
      "Dask result: 0.4999988994707872\n",
      "Dask time: 0.02246546745300293 seconds\n"
     ]
    }
   ],
   "source": [
    "# Timing Dask computation\n",
    "dask_array = da.from_array(numpy_array, chunks=len(numpy_array) // 8)\n",
    "\n",
    "start_time = time.time()\n",
    "result_dask = da.mean(dask_array).compute()\n",
    "end_time = time.time()\n",
    "\n",
    "print(f\"Dask result: {result_dask}\")\n",
    "print(f\"Dask time: {end_time - start_time} seconds\")"
   ]
  },
  {
   "cell_type": "code",
   "execution_count": 11,
   "id": "b880c070-41b0-42b3-bd37-605c6238ee03",
   "metadata": {},
   "outputs": [
    {
     "data": {
      "text/html": [
       "<table>\n",
       "    <tr>\n",
       "        <td>\n",
       "            <table style=\"border-collapse: collapse;\">\n",
       "                <thead>\n",
       "                    <tr>\n",
       "                        <td> </td>\n",
       "                        <th> Array </th>\n",
       "                        <th> Chunk </th>\n",
       "                    </tr>\n",
       "                </thead>\n",
       "                <tbody>\n",
       "                    \n",
       "                    <tr>\n",
       "                        <th> Bytes </th>\n",
       "                        <td> 762.94 MiB </td>\n",
       "                        <td> 95.37 MiB </td>\n",
       "                    </tr>\n",
       "                    \n",
       "                    <tr>\n",
       "                        <th> Shape </th>\n",
       "                        <td> (100000000,) </td>\n",
       "                        <td> (12500000,) </td>\n",
       "                    </tr>\n",
       "                    <tr>\n",
       "                        <th> Dask graph </th>\n",
       "                        <td colspan=\"2\"> 8 chunks in 1 graph layer </td>\n",
       "                    </tr>\n",
       "                    <tr>\n",
       "                        <th> Data type </th>\n",
       "                        <td colspan=\"2\"> float64 numpy.ndarray </td>\n",
       "                    </tr>\n",
       "                </tbody>\n",
       "            </table>\n",
       "        </td>\n",
       "        <td>\n",
       "        <svg width=\"170\" height=\"75\" style=\"stroke:rgb(0,0,0);stroke-width:1\" >\n",
       "\n",
       "  <!-- Horizontal lines -->\n",
       "  <line x1=\"0\" y1=\"0\" x2=\"120\" y2=\"0\" style=\"stroke-width:2\" />\n",
       "  <line x1=\"0\" y1=\"25\" x2=\"120\" y2=\"25\" style=\"stroke-width:2\" />\n",
       "\n",
       "  <!-- Vertical lines -->\n",
       "  <line x1=\"0\" y1=\"0\" x2=\"0\" y2=\"25\" style=\"stroke-width:2\" />\n",
       "  <line x1=\"15\" y1=\"0\" x2=\"15\" y2=\"25\" />\n",
       "  <line x1=\"30\" y1=\"0\" x2=\"30\" y2=\"25\" />\n",
       "  <line x1=\"45\" y1=\"0\" x2=\"45\" y2=\"25\" />\n",
       "  <line x1=\"60\" y1=\"0\" x2=\"60\" y2=\"25\" />\n",
       "  <line x1=\"75\" y1=\"0\" x2=\"75\" y2=\"25\" />\n",
       "  <line x1=\"90\" y1=\"0\" x2=\"90\" y2=\"25\" />\n",
       "  <line x1=\"105\" y1=\"0\" x2=\"105\" y2=\"25\" />\n",
       "  <line x1=\"120\" y1=\"0\" x2=\"120\" y2=\"25\" style=\"stroke-width:2\" />\n",
       "\n",
       "  <!-- Colored Rectangle -->\n",
       "  <polygon points=\"0.0,0.0 120.0,0.0 120.0,25.412616514582485 0.0,25.412616514582485\" style=\"fill:#ECB172A0;stroke-width:0\"/>\n",
       "\n",
       "  <!-- Text -->\n",
       "  <text x=\"60.000000\" y=\"45.412617\" font-size=\"1.0rem\" font-weight=\"100\" text-anchor=\"middle\" >100000000</text>\n",
       "  <text x=\"140.000000\" y=\"12.706308\" font-size=\"1.0rem\" font-weight=\"100\" text-anchor=\"middle\" transform=\"rotate(0,140.000000,12.706308)\">1</text>\n",
       "</svg>\n",
       "        </td>\n",
       "    </tr>\n",
       "</table>"
      ],
      "text/plain": [
       "dask.array<array, shape=(100000000,), dtype=float64, chunksize=(12500000,), chunktype=numpy.ndarray>"
      ]
     },
     "execution_count": 11,
     "metadata": {},
     "output_type": "execute_result"
    }
   ],
   "source": [
    "dask_array"
   ]
  }
 ],
 "metadata": {
  "kernelspec": {
   "display_name": "Python 3 (ipykernel)",
   "language": "python",
   "name": "python3"
  },
  "language_info": {
   "codemirror_mode": {
    "name": "ipython",
    "version": 3
   },
   "file_extension": ".py",
   "mimetype": "text/x-python",
   "name": "python",
   "nbconvert_exporter": "python",
   "pygments_lexer": "ipython3",
   "version": "3.11.3"
  }
 },
 "nbformat": 4,
 "nbformat_minor": 5
}

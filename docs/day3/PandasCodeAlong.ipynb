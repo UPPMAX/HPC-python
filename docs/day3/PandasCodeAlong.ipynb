{
 "cells": [
  {
   "cell_type": "markdown",
   "id": "e4886c8a-f9ea-4bb6-b4f8-e427dc06b73a",
   "metadata": {
    "editable": true,
    "slideshow": {
     "slide_type": ""
    },
    "tags": []
   },
   "source": [
    "# Intro to Pandas\n",
    "## Code-Along Examples\n",
    "\n",
    "Here you have space to work through the code that addresses the prompts in the slide show. The prompts are repeated here for your convenience.\n",
    "\n",
    "\n",
    "### Day 1\n",
    "#### I. Create a DataFrame\n",
    "\n",
    "1. Import Pandas and Numpy.\n",
    "2. Make an array with 3 columns and 4 rows, with data values of 1-12.\n",
    "3. Convert it to a DataFrame with columns named `['a', 'b', 'c']`."
   ]
  },
  {
   "cell_type": "code",
   "execution_count": 12,
   "id": "c7016d5d-2ca1-4a0a-b306-1b85b2526b87",
   "metadata": {},
   "outputs": [
    {
     "name": "stdout",
     "output_type": "stream",
     "text": [
      "    a   b   c\n",
      "w   1   2   3\n",
      "x   4   5   6\n",
      "y   7   8   9\n",
      "z  10  11  12\n"
     ]
    }
   ],
   "source": [
    "import pandas as pd\n",
    "import numpy as np\n",
    "\n",
    "a = np.arange(1,13).reshape((4,3))\n",
    "adf = pd.DataFrame(a, columns=['a', 'b', 'c'], index=['w','x','y','z'])\n",
    "print(adf)"
   ]
  },
  {
   "cell_type": "markdown",
   "id": "e429221d-158d-48cb-96da-684bc644730a",
   "metadata": {},
   "source": [
    "#### II. View Indices of a DataFrame\n",
    "4. Get the indices of DataFrame in previous example and print the data-type of the index. See [documentation](https://pandas.pydata.org/docs/reference/api/pandas.Index.html#pandas.Index)."
   ]
  },
  {
   "cell_type": "code",
   "execution_count": 5,
   "id": "88dfdb15-ac36-4191-bf3d-31b867237b69",
   "metadata": {},
   "outputs": [
    {
     "name": "stdout",
     "output_type": "stream",
     "text": [
      "RangeIndex(start=0, stop=4, step=1)\n",
      "int64\n"
     ]
    }
   ],
   "source": [
    "print(adf.index)\n",
    "print(adf.index.dtype)"
   ]
  },
  {
   "cell_type": "markdown",
   "id": "f15b38ad-53a5-45a5-8bd3-6bc2ce16e45b",
   "metadata": {},
   "source": [
    "#### III. Basic I/O\n",
    "\n",
    "1. Load the file `'exoplanets_5250_EarthUnits.csv'` into a DataFrame called `exos`.\n",
    "    - Extra: set the index to the leftmost column.\n",
    "2. Write the DataFrame to a tab-separated text file (.txt). The name is up to you."
   ]
  },
  {
   "cell_type": "code",
   "execution_count": 2,
   "id": "cb21b465-8bc7-497c-9bd1-6db108b7f721",
   "metadata": {},
   "outputs": [],
   "source": [
    "exos = pd.read_csv('exoplanets_5250_EarthUnits.csv', index_col=0)"
   ]
  },
  {
   "cell_type": "code",
   "execution_count": 3,
   "id": "fd679cd2-c5ae-4e2d-a975-6c9b6e60671e",
   "metadata": {},
   "outputs": [
    {
     "data": {
      "text/html": [
       "<div>\n",
       "<style scoped>\n",
       "    .dataframe tbody tr th:only-of-type {\n",
       "        vertical-align: middle;\n",
       "    }\n",
       "\n",
       "    .dataframe tbody tr th {\n",
       "        vertical-align: top;\n",
       "    }\n",
       "\n",
       "    .dataframe thead th {\n",
       "        text-align: right;\n",
       "    }\n",
       "</style>\n",
       "<table border=\"1\" class=\"dataframe\">\n",
       "  <thead>\n",
       "    <tr style=\"text-align: right;\">\n",
       "      <th></th>\n",
       "      <th>distance</th>\n",
       "      <th>star_mag</th>\n",
       "      <th>planet_type</th>\n",
       "      <th>discovery_yr</th>\n",
       "      <th>mass_ME</th>\n",
       "      <th>radius_RE</th>\n",
       "      <th>orbital_radius_AU</th>\n",
       "      <th>orbital_period_yr</th>\n",
       "      <th>eccentricity</th>\n",
       "      <th>detection_method</th>\n",
       "    </tr>\n",
       "    <tr>\n",
       "      <th>#name</th>\n",
       "      <th></th>\n",
       "      <th></th>\n",
       "      <th></th>\n",
       "      <th></th>\n",
       "      <th></th>\n",
       "      <th></th>\n",
       "      <th></th>\n",
       "      <th></th>\n",
       "      <th></th>\n",
       "      <th></th>\n",
       "    </tr>\n",
       "  </thead>\n",
       "  <tbody>\n",
       "    <tr>\n",
       "      <th>11 Comae Berenices b</th>\n",
       "      <td>304.0</td>\n",
       "      <td>4.72307</td>\n",
       "      <td>Gas Giant</td>\n",
       "      <td>2007</td>\n",
       "      <td>6169.2</td>\n",
       "      <td>12.096</td>\n",
       "      <td>1.29</td>\n",
       "      <td>0.892539</td>\n",
       "      <td>0.23</td>\n",
       "      <td>Radial Velocity</td>\n",
       "    </tr>\n",
       "    <tr>\n",
       "      <th>11 Ursae Minoris b</th>\n",
       "      <td>409.0</td>\n",
       "      <td>5.01300</td>\n",
       "      <td>Gas Giant</td>\n",
       "      <td>2009</td>\n",
       "      <td>4687.32</td>\n",
       "      <td>12.208</td>\n",
       "      <td>1.53</td>\n",
       "      <td>1.400000</td>\n",
       "      <td>0.08</td>\n",
       "      <td>Radial Velocity</td>\n",
       "    </tr>\n",
       "    <tr>\n",
       "      <th>14 Andromedae b</th>\n",
       "      <td>246.0</td>\n",
       "      <td>5.23133</td>\n",
       "      <td>Gas Giant</td>\n",
       "      <td>2008</td>\n",
       "      <td>1526.4</td>\n",
       "      <td>12.88</td>\n",
       "      <td>0.83</td>\n",
       "      <td>0.508693</td>\n",
       "      <td>0.00</td>\n",
       "      <td>Radial Velocity</td>\n",
       "    </tr>\n",
       "  </tbody>\n",
       "</table>\n",
       "</div>"
      ],
      "text/plain": [
       "                      distance  star_mag planet_type  discovery_yr  mass_ME  \\\n",
       "#name                                                                         \n",
       "11 Comae Berenices b     304.0   4.72307   Gas Giant          2007   6169.2   \n",
       "11 Ursae Minoris b       409.0   5.01300   Gas Giant          2009  4687.32   \n",
       "14 Andromedae b          246.0   5.23133   Gas Giant          2008   1526.4   \n",
       "\n",
       "                     radius_RE  orbital_radius_AU  orbital_period_yr  \\\n",
       "#name                                                                  \n",
       "11 Comae Berenices b    12.096               1.29           0.892539   \n",
       "11 Ursae Minoris b      12.208               1.53           1.400000   \n",
       "14 Andromedae b          12.88               0.83           0.508693   \n",
       "\n",
       "                      eccentricity detection_method  \n",
       "#name                                                \n",
       "11 Comae Berenices b          0.23  Radial Velocity  \n",
       "11 Ursae Minoris b            0.08  Radial Velocity  \n",
       "14 Andromedae b               0.00  Radial Velocity  "
      ]
     },
     "execution_count": 3,
     "metadata": {},
     "output_type": "execute_result"
    }
   ],
   "source": [
    "exos.head(3)"
   ]
  },
  {
   "cell_type": "code",
   "execution_count": 18,
   "id": "5a4894bb-0075-4234-b033-4f346f100329",
   "metadata": {},
   "outputs": [
    {
     "data": {
      "text/plain": [
       "planet_type    Super Earth\n",
       "mass_ME               7.99\n",
       "Name: 55 Cancri e, dtype: object"
      ]
     },
     "execution_count": 18,
     "metadata": {},
     "output_type": "execute_result"
    }
   ],
   "source": [
    "exos.loc['55 Cancri e',['planet_type','mass_ME']]"
   ]
  },
  {
   "cell_type": "code",
   "execution_count": null,
   "id": "777dc491-05b9-43ad-a0fc-982c867f5040",
   "metadata": {},
   "outputs": [],
   "source": [
    "exos.to_csv('exos_5250_EUnits.txt', sep='\\t')"
   ]
  },
  {
   "cell_type": "markdown",
   "id": "6361cb1c-0768-4ec5-993d-fe0a976a4d63",
   "metadata": {},
   "source": [
    "#### IV. Data Inspection\n",
    "\n",
    "1. Call `.info()` off the exoplanets DataFrame from the previous example. Familiarize yourself with the specs that are included. Notice anything weird?\n",
    "2. If nothing stuck out in #1, call `.describe()` on that DataFrame. "
   ]
  },
  {
   "cell_type": "code",
   "execution_count": 17,
   "id": "4c0ad1ca-0327-4f04-934a-99a9e1d575bd",
   "metadata": {},
   "outputs": [
    {
     "name": "stdout",
     "output_type": "stream",
     "text": [
      "<class 'pandas.core.frame.DataFrame'>\n",
      "Index: 5248 entries, 11 Comae Berenices b to YZ Ceti d\n",
      "Data columns (total 10 columns):\n",
      " #   Column             Non-Null Count  Dtype  \n",
      "---  ------             --------------  -----  \n",
      " 0   distance           5231 non-null   float64\n",
      " 1   star_mag           5087 non-null   float64\n",
      " 2   planet_type        5248 non-null   object \n",
      " 3   discovery_yr       5248 non-null   int64  \n",
      " 4   mass_ME            5248 non-null   object \n",
      " 5   radius_RE          5248 non-null   object \n",
      " 6   orbital_radius_AU  4959 non-null   float64\n",
      " 7   orbital_period_yr  5248 non-null   float64\n",
      " 8   eccentricity       5248 non-null   float64\n",
      " 9   detection_method   5248 non-null   object \n",
      "dtypes: float64(5), int64(1), object(4)\n",
      "memory usage: 451.0+ KB\n"
     ]
    }
   ],
   "source": [
    "exos.info()"
   ]
  },
  {
   "cell_type": "code",
   "execution_count": 18,
   "id": "6158060a-ccb7-4d5d-8faa-dc1040e35d56",
   "metadata": {},
   "outputs": [
    {
     "data": {
      "text/html": [
       "<div>\n",
       "<style scoped>\n",
       "    .dataframe tbody tr th:only-of-type {\n",
       "        vertical-align: middle;\n",
       "    }\n",
       "\n",
       "    .dataframe tbody tr th {\n",
       "        vertical-align: top;\n",
       "    }\n",
       "\n",
       "    .dataframe thead th {\n",
       "        text-align: right;\n",
       "    }\n",
       "</style>\n",
       "<table border=\"1\" class=\"dataframe\">\n",
       "  <thead>\n",
       "    <tr style=\"text-align: right;\">\n",
       "      <th></th>\n",
       "      <th>distance</th>\n",
       "      <th>star_mag</th>\n",
       "      <th>discovery_yr</th>\n",
       "      <th>orbital_radius_AU</th>\n",
       "      <th>orbital_period_yr</th>\n",
       "      <th>eccentricity</th>\n",
       "    </tr>\n",
       "  </thead>\n",
       "  <tbody>\n",
       "    <tr>\n",
       "      <th>count</th>\n",
       "      <td>5231.000000</td>\n",
       "      <td>5087.000000</td>\n",
       "      <td>5248.000000</td>\n",
       "      <td>4959.000000</td>\n",
       "      <td>5.248000e+03</td>\n",
       "      <td>5248.000000</td>\n",
       "    </tr>\n",
       "    <tr>\n",
       "      <th>mean</th>\n",
       "      <td>2167.800038</td>\n",
       "      <td>12.683997</td>\n",
       "      <td>2015.732470</td>\n",
       "      <td>6.959035</td>\n",
       "      <td>4.793331e+02</td>\n",
       "      <td>0.063948</td>\n",
       "    </tr>\n",
       "    <tr>\n",
       "      <th>std</th>\n",
       "      <td>3245.981933</td>\n",
       "      <td>3.108155</td>\n",
       "      <td>4.308133</td>\n",
       "      <td>138.701425</td>\n",
       "      <td>1.680765e+04</td>\n",
       "      <td>0.141423</td>\n",
       "    </tr>\n",
       "    <tr>\n",
       "      <th>min</th>\n",
       "      <td>4.000000</td>\n",
       "      <td>0.872000</td>\n",
       "      <td>1992.000000</td>\n",
       "      <td>0.004400</td>\n",
       "      <td>2.737850e-04</td>\n",
       "      <td>0.000000</td>\n",
       "    </tr>\n",
       "    <tr>\n",
       "      <th>25%</th>\n",
       "      <td>387.500000</td>\n",
       "      <td>10.939000</td>\n",
       "      <td>2014.000000</td>\n",
       "      <td>0.053000</td>\n",
       "      <td>1.259411e-02</td>\n",
       "      <td>0.000000</td>\n",
       "    </tr>\n",
       "    <tr>\n",
       "      <th>50%</th>\n",
       "      <td>1373.000000</td>\n",
       "      <td>13.543000</td>\n",
       "      <td>2016.000000</td>\n",
       "      <td>0.102700</td>\n",
       "      <td>3.449692e-02</td>\n",
       "      <td>0.000000</td>\n",
       "    </tr>\n",
       "    <tr>\n",
       "      <th>75%</th>\n",
       "      <td>2779.000000</td>\n",
       "      <td>15.021000</td>\n",
       "      <td>2018.000000</td>\n",
       "      <td>0.284600</td>\n",
       "      <td>1.440109e-01</td>\n",
       "      <td>0.060000</td>\n",
       "    </tr>\n",
       "    <tr>\n",
       "      <th>max</th>\n",
       "      <td>27727.000000</td>\n",
       "      <td>44.610000</td>\n",
       "      <td>2023.000000</td>\n",
       "      <td>7506.000000</td>\n",
       "      <td>1.101370e+06</td>\n",
       "      <td>0.950000</td>\n",
       "    </tr>\n",
       "  </tbody>\n",
       "</table>\n",
       "</div>"
      ],
      "text/plain": [
       "           distance     star_mag  discovery_yr  orbital_radius_AU  \\\n",
       "count   5231.000000  5087.000000   5248.000000        4959.000000   \n",
       "mean    2167.800038    12.683997   2015.732470           6.959035   \n",
       "std     3245.981933     3.108155      4.308133         138.701425   \n",
       "min        4.000000     0.872000   1992.000000           0.004400   \n",
       "25%      387.500000    10.939000   2014.000000           0.053000   \n",
       "50%     1373.000000    13.543000   2016.000000           0.102700   \n",
       "75%     2779.000000    15.021000   2018.000000           0.284600   \n",
       "max    27727.000000    44.610000   2023.000000        7506.000000   \n",
       "\n",
       "       orbital_period_yr  eccentricity  \n",
       "count       5.248000e+03   5248.000000  \n",
       "mean        4.793331e+02      0.063948  \n",
       "std         1.680765e+04      0.141423  \n",
       "min         2.737850e-04      0.000000  \n",
       "25%         1.259411e-02      0.000000  \n",
       "50%         3.449692e-02      0.000000  \n",
       "75%         1.440109e-01      0.060000  \n",
       "max         1.101370e+06      0.950000  "
      ]
     },
     "execution_count": 18,
     "metadata": {},
     "output_type": "execute_result"
    }
   ],
   "source": [
    "exos.describe()"
   ]
  },
  {
   "cell_type": "markdown",
   "id": "66464994-ba91-47a1-af78-e8a70cba90b7",
   "metadata": {},
   "source": [
    "#### V. Selection Syntax\n",
    "1. Assign rows 25 through 35 of the exoplanets DataFrame to another DataFrame called `df2`.\n",
    "2. Extract and print both the `'planet_type'` and `'mass_ME'` columns of `df2`.\n",
    "3. Go back to the full exoplanets DataFrame, select rows where the `'discovery_yr'` is before 2007 and `'planet_type'` is not 'Gas Giant', and print only the `'planet_type'` column of that selection.\n"
   ]
  },
  {
   "cell_type": "code",
   "execution_count": 19,
   "id": "32466cd0-238f-4401-aee2-b7b81b586886",
   "metadata": {},
   "outputs": [
    {
     "name": "stdout",
     "output_type": "stream",
     "text": [
      "                planet_type mass_ME\n",
      "#name                              \n",
      "51 Eridani b      Gas Giant     636\n",
      "51 Pegasi b       Gas Giant  146.28\n",
      "55 Cancri b       Gas Giant  264.13\n",
      "55 Cancri c       Gas Giant   54.51\n",
      "55 Cancri d       Gas Giant  1233.2\n",
      "55 Cancri e     Super Earth    7.99\n",
      "55 Cancri f       Gas Giant   44.84\n",
      "61 Virginis b  Neptune-like     5.1\n",
      "61 Virginis c  Neptune-like    18.2\n",
      "61 Virginis d  Neptune-like    22.9\n"
     ]
    }
   ],
   "source": [
    "df2 = exos.iloc[25:35]\n",
    "print(df2[['planet_type','mass_ME']])"
   ]
  },
  {
   "cell_type": "code",
   "execution_count": 23,
   "id": "fc730eda-906f-4b9a-bc11-97c9fa81afd1",
   "metadata": {},
   "outputs": [
    {
     "data": {
      "text/plain": [
       "#name\n",
       "55 Cancri e              Super Earth\n",
       "GJ 436 b                Neptune-like\n",
       "GJ 581 b                Neptune-like\n",
       "GJ 876 d                Neptune-like\n",
       "HD 160691 d             Neptune-like\n",
       "HD 190360 c             Neptune-like\n",
       "HD 4308 b               Neptune-like\n",
       "HD 49674 b              Neptune-like\n",
       "HD 69830 b              Neptune-like\n",
       "HD 69830 c              Neptune-like\n",
       "HD 69830 d              Neptune-like\n",
       "HD 99492 b              Neptune-like\n",
       "OGLE-2005-BLG-169L b    Neptune-like\n",
       "OGLE-2005-BLG-390L b    Neptune-like\n",
       "PSR B1257+12 b           Terrestrial\n",
       "PSR B1257+12 c           Super Earth\n",
       "PSR B1257+12 d           Super Earth\n",
       "Name: planet_type, dtype: object"
      ]
     },
     "execution_count": 23,
     "metadata": {},
     "output_type": "execute_result"
    }
   ],
   "source": [
    "exos.loc[(exos['discovery_yr']<2007) & \n",
    "         (exos['planet_type'] != 'Gas Giant'),\n",
    "         'planet_type']"
   ]
  },
  {
   "cell_type": "markdown",
   "id": "139fd2c4-bb0a-40d2-8077-5c43fa457e17",
   "metadata": {},
   "source": [
    "#### VI. Bad Data Handling\n",
    "1. The exoplanets DataFrame has space characters (`' '`) for missing values in the `'mass_ME'` & `'radius_RE'` columns. Use the .replace() method to replace `' '`  with `np.NaN` in-place. \n",
    "    - Extra: use the `.astype()` method to convert the data types of these columns to `'float64'` in-place. Check your results with `.info()`\n",
    "2. Use the `.mask()` method to mask the `'eccentricity'` column wherever the data are exactly 0 (these are assumed values). The \"Non-Null Count\" for that column in info() should be smaller."
   ]
  },
  {
   "cell_type": "code",
   "execution_count": 22,
   "id": "8e43890b-82fd-4ab8-8016-ba1fd1c198a1",
   "metadata": {},
   "outputs": [],
   "source": [
    "exos['mass_ME']=exos['mass_ME'].replace(' ', np.nan).astype('float64')\n",
    "exos['radius_RE']=exos['radius_RE'].replace(' ', np.nan).astype('float64')"
   ]
  },
  {
   "cell_type": "code",
   "execution_count": 25,
   "id": "d793ec1c-d3ae-4142-a035-05fbaa9fefc6",
   "metadata": {},
   "outputs": [
    {
     "name": "stdout",
     "output_type": "stream",
     "text": [
      "<class 'pandas.core.frame.DataFrame'>\n",
      "Index: 5248 entries, 11 Comae Berenices b to YZ Ceti d\n",
      "Data columns (total 10 columns):\n",
      " #   Column             Non-Null Count  Dtype  \n",
      "---  ------             --------------  -----  \n",
      " 0   distance           5231 non-null   float64\n",
      " 1   star_mag           5087 non-null   float64\n",
      " 2   planet_type        5248 non-null   object \n",
      " 3   discovery_yr       5248 non-null   int64  \n",
      " 4   mass_ME            5227 non-null   float64\n",
      " 5   radius_RE          5233 non-null   float64\n",
      " 6   orbital_radius_AU  4959 non-null   float64\n",
      " 7   orbital_period_yr  5248 non-null   float64\n",
      " 8   eccentricity       5248 non-null   float64\n",
      " 9   detection_method   5248 non-null   object \n",
      "dtypes: float64(7), int64(1), object(2)\n",
      "memory usage: 451.0+ KB\n"
     ]
    }
   ],
   "source": [
    "exos.info()"
   ]
  },
  {
   "cell_type": "code",
   "execution_count": 11,
   "id": "634df10b-b803-41c4-8834-27fa9bd57b7d",
   "metadata": {},
   "outputs": [],
   "source": [
    "exos['eccentricity']=exos['eccentricity'].mask(exos['eccentricity']==0)"
   ]
  },
  {
   "cell_type": "code",
   "execution_count": 27,
   "id": "2dfd185e-76db-43ef-ab2b-66b8e9eeaa7f",
   "metadata": {},
   "outputs": [
    {
     "name": "stdout",
     "output_type": "stream",
     "text": [
      "<class 'pandas.core.frame.DataFrame'>\n",
      "Index: 5248 entries, 11 Comae Berenices b to YZ Ceti d\n",
      "Data columns (total 10 columns):\n",
      " #   Column             Non-Null Count  Dtype  \n",
      "---  ------             --------------  -----  \n",
      " 0   distance           5231 non-null   float64\n",
      " 1   star_mag           5087 non-null   float64\n",
      " 2   planet_type        5248 non-null   object \n",
      " 3   discovery_yr       5248 non-null   int64  \n",
      " 4   mass_ME            5227 non-null   float64\n",
      " 5   radius_RE          5233 non-null   float64\n",
      " 6   orbital_radius_AU  4959 non-null   float64\n",
      " 7   orbital_period_yr  5248 non-null   float64\n",
      " 8   eccentricity       1674 non-null   float64\n",
      " 9   detection_method   5248 non-null   object \n",
      "dtypes: float64(7), int64(1), object(2)\n",
      "memory usage: 451.0+ KB\n"
     ]
    }
   ],
   "source": [
    "exos.info()"
   ]
  },
  {
   "cell_type": "markdown",
   "id": "0daf5cae-be47-4a15-a309-77acdd8ce56c",
   "metadata": {},
   "source": [
    "#### VII. Basic Operations\n",
    "1. Calculate the median of all numeric columns in the exoplanets DataFrame.\n",
    "2. Divide the `'mass_ME'` column by 317.8 & assign the result to `'mass_MJ'` (planet mass in Jupiter masses)"
   ]
  },
  {
   "cell_type": "code",
   "execution_count": 6,
   "id": "799510ae-1b49-4d8c-adc0-3deb0342c645",
   "metadata": {},
   "outputs": [
    {
     "name": "stdout",
     "output_type": "stream",
     "text": [
      "distance             1373.000000\n",
      "star_mag               13.543000\n",
      "discovery_yr         2016.000000\n",
      "mass_ME                 8.470000\n",
      "radius_RE               2.732800\n",
      "orbital_radius_AU       0.102700\n",
      "orbital_period_yr       0.034497\n",
      "eccentricity            0.140000\n",
      "dtype: float64\n"
     ]
    }
   ],
   "source": [
    "print(exos.median(numeric_only=True))"
   ]
  },
  {
   "cell_type": "code",
   "execution_count": 7,
   "id": "d9cae79f-4cd4-416e-b5d3-0912dd696c92",
   "metadata": {},
   "outputs": [
    {
     "data": {
      "text/plain": [
       "#name\n",
       "11 Comae Berenices b    19.412209\n",
       "11 Ursae Minoris b      14.749276\n",
       "14 Andromedae b          4.803021\n",
       "14 Herculis b            8.143927\n",
       "16 Cygni B b             1.781120\n",
       "Name: mass_MJ, dtype: float64"
      ]
     },
     "execution_count": 7,
     "metadata": {},
     "output_type": "execute_result"
    }
   ],
   "source": [
    "exos['mass_MJ']=exos['mass_ME']/317.8\n",
    "exos['mass_MJ'].head()"
   ]
  },
  {
   "cell_type": "markdown",
   "id": "8b036f2c-bcf3-4e60-ac48-f574b481d8fc",
   "metadata": {},
   "source": [
    "#### VIII. Reorganizing Data\n",
    "Let\n",
    "`df1 = pd.DataFrame(np.random.randint(0,high=9,size=(4,3)), columns=['B','a','C'], index=['i','j','h','k'])` and\n",
    "`df2 = pd.DataFrame(np.identity(3), columns=['B','C','D'], index=['k','l','m'])`.\n",
    "1. Sort `df1` by index, by index again with `axis=1`, and then by the values of column `'C'`.\n",
    "2. Concatenate `df1` and `df1`. What happens where the indices aren’t shared?"
   ]
  },
  {
   "cell_type": "code",
   "execution_count": 59,
   "id": "cfe85001-b2da-44ab-8d1c-10dbd36641a9",
   "metadata": {},
   "outputs": [],
   "source": [
    "df1 = pd.DataFrame(np.random.randint(0,high=9,size=(4,3)), columns=['B','a','C'], index=['i','j','h','k'])\n",
    "df2 = pd.DataFrame(np.identity(3), columns=['B','C','D'], index=['k','l','m'])"
   ]
  },
  {
   "cell_type": "code",
   "execution_count": 9,
   "id": "42dbd395-dc9e-42e7-ab16-1b5850f64693",
   "metadata": {},
   "outputs": [
    {
     "data": {
      "text/html": [
       "<div>\n",
       "<style scoped>\n",
       "    .dataframe tbody tr th:only-of-type {\n",
       "        vertical-align: middle;\n",
       "    }\n",
       "\n",
       "    .dataframe tbody tr th {\n",
       "        vertical-align: top;\n",
       "    }\n",
       "\n",
       "    .dataframe thead th {\n",
       "        text-align: right;\n",
       "    }\n",
       "</style>\n",
       "<table border=\"1\" class=\"dataframe\">\n",
       "  <thead>\n",
       "    <tr style=\"text-align: right;\">\n",
       "      <th></th>\n",
       "      <th>B</th>\n",
       "      <th>a</th>\n",
       "      <th>C</th>\n",
       "    </tr>\n",
       "  </thead>\n",
       "  <tbody>\n",
       "    <tr>\n",
       "      <th>h</th>\n",
       "      <td>4</td>\n",
       "      <td>2</td>\n",
       "      <td>3</td>\n",
       "    </tr>\n",
       "    <tr>\n",
       "      <th>i</th>\n",
       "      <td>5</td>\n",
       "      <td>1</td>\n",
       "      <td>6</td>\n",
       "    </tr>\n",
       "    <tr>\n",
       "      <th>j</th>\n",
       "      <td>3</td>\n",
       "      <td>7</td>\n",
       "      <td>7</td>\n",
       "    </tr>\n",
       "    <tr>\n",
       "      <th>k</th>\n",
       "      <td>2</td>\n",
       "      <td>6</td>\n",
       "      <td>6</td>\n",
       "    </tr>\n",
       "  </tbody>\n",
       "</table>\n",
       "</div>"
      ],
      "text/plain": [
       "   B  a  C\n",
       "h  4  2  3\n",
       "i  5  1  6\n",
       "j  3  7  7\n",
       "k  2  6  6"
      ]
     },
     "execution_count": 9,
     "metadata": {},
     "output_type": "execute_result"
    }
   ],
   "source": [
    "df1.sort_index()"
   ]
  },
  {
   "cell_type": "code",
   "execution_count": 45,
   "id": "8d7a1e92-4386-48f3-b430-99837351ffb5",
   "metadata": {},
   "outputs": [
    {
     "data": {
      "text/html": [
       "<div>\n",
       "<style scoped>\n",
       "    .dataframe tbody tr th:only-of-type {\n",
       "        vertical-align: middle;\n",
       "    }\n",
       "\n",
       "    .dataframe tbody tr th {\n",
       "        vertical-align: top;\n",
       "    }\n",
       "\n",
       "    .dataframe thead th {\n",
       "        text-align: right;\n",
       "    }\n",
       "</style>\n",
       "<table border=\"1\" class=\"dataframe\">\n",
       "  <thead>\n",
       "    <tr style=\"text-align: right;\">\n",
       "      <th></th>\n",
       "      <th>B</th>\n",
       "      <th>a</th>\n",
       "      <th>C</th>\n",
       "    </tr>\n",
       "  </thead>\n",
       "  <tbody>\n",
       "    <tr>\n",
       "      <th>h</th>\n",
       "      <td>4</td>\n",
       "      <td>2</td>\n",
       "      <td>3</td>\n",
       "    </tr>\n",
       "    <tr>\n",
       "      <th>i</th>\n",
       "      <td>5</td>\n",
       "      <td>1</td>\n",
       "      <td>6</td>\n",
       "    </tr>\n",
       "    <tr>\n",
       "      <th>k</th>\n",
       "      <td>2</td>\n",
       "      <td>6</td>\n",
       "      <td>6</td>\n",
       "    </tr>\n",
       "    <tr>\n",
       "      <th>j</th>\n",
       "      <td>3</td>\n",
       "      <td>7</td>\n",
       "      <td>7</td>\n",
       "    </tr>\n",
       "  </tbody>\n",
       "</table>\n",
       "</div>"
      ],
      "text/plain": [
       "   B  a  C\n",
       "h  4  2  3\n",
       "i  5  1  6\n",
       "k  2  6  6\n",
       "j  3  7  7"
      ]
     },
     "execution_count": 45,
     "metadata": {},
     "output_type": "execute_result"
    }
   ],
   "source": [
    "df1.sort_values(by='C')"
   ]
  },
  {
   "cell_type": "code",
   "execution_count": 60,
   "id": "d7b8b418-ecfb-439f-9f6f-5ee6caf9fddb",
   "metadata": {},
   "outputs": [
    {
     "data": {
      "text/html": [
       "<div>\n",
       "<style scoped>\n",
       "    .dataframe tbody tr th:only-of-type {\n",
       "        vertical-align: middle;\n",
       "    }\n",
       "\n",
       "    .dataframe tbody tr th {\n",
       "        vertical-align: top;\n",
       "    }\n",
       "\n",
       "    .dataframe thead th {\n",
       "        text-align: right;\n",
       "    }\n",
       "</style>\n",
       "<table border=\"1\" class=\"dataframe\">\n",
       "  <thead>\n",
       "    <tr style=\"text-align: right;\">\n",
       "      <th></th>\n",
       "      <th>B</th>\n",
       "      <th>a</th>\n",
       "      <th>C</th>\n",
       "      <th>D</th>\n",
       "    </tr>\n",
       "  </thead>\n",
       "  <tbody>\n",
       "    <tr>\n",
       "      <th>i</th>\n",
       "      <td>5.0</td>\n",
       "      <td>5.0</td>\n",
       "      <td>3.0</td>\n",
       "      <td>NaN</td>\n",
       "    </tr>\n",
       "    <tr>\n",
       "      <th>j</th>\n",
       "      <td>5.0</td>\n",
       "      <td>0.0</td>\n",
       "      <td>1.0</td>\n",
       "      <td>NaN</td>\n",
       "    </tr>\n",
       "    <tr>\n",
       "      <th>h</th>\n",
       "      <td>7.0</td>\n",
       "      <td>3.0</td>\n",
       "      <td>7.0</td>\n",
       "      <td>NaN</td>\n",
       "    </tr>\n",
       "    <tr>\n",
       "      <th>k</th>\n",
       "      <td>4.0</td>\n",
       "      <td>7.0</td>\n",
       "      <td>6.0</td>\n",
       "      <td>NaN</td>\n",
       "    </tr>\n",
       "    <tr>\n",
       "      <th>k</th>\n",
       "      <td>1.0</td>\n",
       "      <td>NaN</td>\n",
       "      <td>0.0</td>\n",
       "      <td>0.0</td>\n",
       "    </tr>\n",
       "    <tr>\n",
       "      <th>l</th>\n",
       "      <td>0.0</td>\n",
       "      <td>NaN</td>\n",
       "      <td>1.0</td>\n",
       "      <td>0.0</td>\n",
       "    </tr>\n",
       "    <tr>\n",
       "      <th>m</th>\n",
       "      <td>0.0</td>\n",
       "      <td>NaN</td>\n",
       "      <td>0.0</td>\n",
       "      <td>1.0</td>\n",
       "    </tr>\n",
       "  </tbody>\n",
       "</table>\n",
       "</div>"
      ],
      "text/plain": [
       "     B    a    C    D\n",
       "i  5.0  5.0  3.0  NaN\n",
       "j  5.0  0.0  1.0  NaN\n",
       "h  7.0  3.0  7.0  NaN\n",
       "k  4.0  7.0  6.0  NaN\n",
       "k  1.0  NaN  0.0  0.0\n",
       "l  0.0  NaN  1.0  0.0\n",
       "m  0.0  NaN  0.0  1.0"
      ]
     },
     "execution_count": 60,
     "metadata": {},
     "output_type": "execute_result"
    }
   ],
   "source": [
    "pd.concat([df1,df2], axis=0)"
   ]
  },
  {
   "cell_type": "markdown",
   "id": "73793619-e0c5-4849-b008-3861547ac57d",
   "metadata": {},
   "source": [
    "### Day 2\n",
    "#### X. GroupBy Objects\n",
    "1. Group the exoplanets DataFrame by `'planet_type'` and assign the result to `grouped_pt`.\n",
    "2. Print the mean `'mass_ME'` for each group in `grouped_pt` (this is 1 command).\n",
    "3. **Challenge**\\*: call the `.filter()` method on `grouped_pt` to remove any `'planet_type'` group with 5 or fewer members (\\*I don’t expect most people to get this in the time available)."
   ]
  },
  {
   "cell_type": "code",
   "execution_count": 26,
   "id": "f157adc8-79b4-46d9-ba96-eb1e0d31292b",
   "metadata": {},
   "outputs": [],
   "source": [
    "grouped_pt=exos.groupby('planet_type')"
   ]
  },
  {
   "cell_type": "code",
   "execution_count": 30,
   "id": "ac14d677-b1fe-4f55-9e57-0f0a83d5badd",
   "metadata": {},
   "outputs": [
    {
     "data": {
      "text/html": [
       "<div>\n",
       "<style scoped>\n",
       "    .dataframe tbody tr th:only-of-type {\n",
       "        vertical-align: middle;\n",
       "    }\n",
       "\n",
       "    .dataframe tbody tr th {\n",
       "        vertical-align: top;\n",
       "    }\n",
       "\n",
       "    .dataframe thead th {\n",
       "        text-align: right;\n",
       "    }\n",
       "</style>\n",
       "<table border=\"1\" class=\"dataframe\">\n",
       "  <thead>\n",
       "    <tr style=\"text-align: right;\">\n",
       "      <th></th>\n",
       "      <th>distance</th>\n",
       "      <th>star_mag</th>\n",
       "      <th>planet_type</th>\n",
       "      <th>discovery_yr</th>\n",
       "      <th>mass_ME</th>\n",
       "      <th>radius_RE</th>\n",
       "      <th>orbital_radius_AU</th>\n",
       "      <th>orbital_period_yr</th>\n",
       "      <th>eccentricity</th>\n",
       "      <th>detection_method</th>\n",
       "    </tr>\n",
       "    <tr>\n",
       "      <th>#name</th>\n",
       "      <th></th>\n",
       "      <th></th>\n",
       "      <th></th>\n",
       "      <th></th>\n",
       "      <th></th>\n",
       "      <th></th>\n",
       "      <th></th>\n",
       "      <th></th>\n",
       "      <th></th>\n",
       "      <th></th>\n",
       "    </tr>\n",
       "  </thead>\n",
       "  <tbody>\n",
       "    <tr>\n",
       "      <th>11 Comae Berenices b</th>\n",
       "      <td>304.0</td>\n",
       "      <td>4.72307</td>\n",
       "      <td>Gas Giant</td>\n",
       "      <td>2007</td>\n",
       "      <td>6169.20</td>\n",
       "      <td>12.0960</td>\n",
       "      <td>1.290000</td>\n",
       "      <td>0.892539</td>\n",
       "      <td>0.23</td>\n",
       "      <td>Radial Velocity</td>\n",
       "    </tr>\n",
       "    <tr>\n",
       "      <th>11 Ursae Minoris b</th>\n",
       "      <td>409.0</td>\n",
       "      <td>5.01300</td>\n",
       "      <td>Gas Giant</td>\n",
       "      <td>2009</td>\n",
       "      <td>4687.32</td>\n",
       "      <td>12.2080</td>\n",
       "      <td>1.530000</td>\n",
       "      <td>1.400000</td>\n",
       "      <td>0.08</td>\n",
       "      <td>Radial Velocity</td>\n",
       "    </tr>\n",
       "    <tr>\n",
       "      <th>14 Andromedae b</th>\n",
       "      <td>246.0</td>\n",
       "      <td>5.23133</td>\n",
       "      <td>Gas Giant</td>\n",
       "      <td>2008</td>\n",
       "      <td>1526.40</td>\n",
       "      <td>12.8800</td>\n",
       "      <td>0.830000</td>\n",
       "      <td>0.508693</td>\n",
       "      <td>0.00</td>\n",
       "      <td>Radial Velocity</td>\n",
       "    </tr>\n",
       "    <tr>\n",
       "      <th>14 Herculis b</th>\n",
       "      <td>58.0</td>\n",
       "      <td>6.61935</td>\n",
       "      <td>Gas Giant</td>\n",
       "      <td>2002</td>\n",
       "      <td>2588.14</td>\n",
       "      <td>12.5440</td>\n",
       "      <td>2.773069</td>\n",
       "      <td>4.800000</td>\n",
       "      <td>0.37</td>\n",
       "      <td>Radial Velocity</td>\n",
       "    </tr>\n",
       "    <tr>\n",
       "      <th>16 Cygni B b</th>\n",
       "      <td>69.0</td>\n",
       "      <td>6.21500</td>\n",
       "      <td>Gas Giant</td>\n",
       "      <td>1996</td>\n",
       "      <td>566.04</td>\n",
       "      <td>13.4400</td>\n",
       "      <td>1.660000</td>\n",
       "      <td>2.200000</td>\n",
       "      <td>0.68</td>\n",
       "      <td>Radial Velocity</td>\n",
       "    </tr>\n",
       "    <tr>\n",
       "      <th>55 Cancri e</th>\n",
       "      <td>41.0</td>\n",
       "      <td>5.95084</td>\n",
       "      <td>Super Earth</td>\n",
       "      <td>2004</td>\n",
       "      <td>7.99</td>\n",
       "      <td>1.8750</td>\n",
       "      <td>0.015440</td>\n",
       "      <td>0.001916</td>\n",
       "      <td>0.05</td>\n",
       "      <td>Radial Velocity</td>\n",
       "    </tr>\n",
       "    <tr>\n",
       "      <th>61 Virginis b</th>\n",
       "      <td>28.0</td>\n",
       "      <td>4.69550</td>\n",
       "      <td>Neptune-like</td>\n",
       "      <td>2009</td>\n",
       "      <td>5.10</td>\n",
       "      <td>2.1100</td>\n",
       "      <td>0.050201</td>\n",
       "      <td>0.011499</td>\n",
       "      <td>0.12</td>\n",
       "      <td>Radial Velocity</td>\n",
       "    </tr>\n",
       "    <tr>\n",
       "      <th>61 Virginis c</th>\n",
       "      <td>28.0</td>\n",
       "      <td>4.69550</td>\n",
       "      <td>Neptune-like</td>\n",
       "      <td>2009</td>\n",
       "      <td>18.20</td>\n",
       "      <td>4.4576</td>\n",
       "      <td>0.217500</td>\n",
       "      <td>0.104038</td>\n",
       "      <td>0.14</td>\n",
       "      <td>Radial Velocity</td>\n",
       "    </tr>\n",
       "    <tr>\n",
       "      <th>61 Virginis d</th>\n",
       "      <td>28.0</td>\n",
       "      <td>4.69550</td>\n",
       "      <td>Neptune-like</td>\n",
       "      <td>2009</td>\n",
       "      <td>22.90</td>\n",
       "      <td>5.1072</td>\n",
       "      <td>0.476000</td>\n",
       "      <td>0.336756</td>\n",
       "      <td>0.35</td>\n",
       "      <td>Radial Velocity</td>\n",
       "    </tr>\n",
       "    <tr>\n",
       "      <th>AU Microscopii b</th>\n",
       "      <td>32.0</td>\n",
       "      <td>8.81000</td>\n",
       "      <td>Neptune-like</td>\n",
       "      <td>2020</td>\n",
       "      <td>20.12</td>\n",
       "      <td>4.0656</td>\n",
       "      <td>0.064500</td>\n",
       "      <td>0.023272</td>\n",
       "      <td>0.19</td>\n",
       "      <td>Transit</td>\n",
       "    </tr>\n",
       "    <tr>\n",
       "      <th>AU Microscopii c</th>\n",
       "      <td>32.0</td>\n",
       "      <td>8.81000</td>\n",
       "      <td>Neptune-like</td>\n",
       "      <td>2021</td>\n",
       "      <td>9.60</td>\n",
       "      <td>3.2368</td>\n",
       "      <td>0.110100</td>\n",
       "      <td>0.051745</td>\n",
       "      <td>0.04</td>\n",
       "      <td>Transit</td>\n",
       "    </tr>\n",
       "    <tr>\n",
       "      <th>CD Ceti b</th>\n",
       "      <td>28.0</td>\n",
       "      <td>13.95000</td>\n",
       "      <td>Super Earth</td>\n",
       "      <td>2020</td>\n",
       "      <td>3.95</td>\n",
       "      <td>1.8200</td>\n",
       "      <td>0.018500</td>\n",
       "      <td>0.006297</td>\n",
       "      <td>0.00</td>\n",
       "      <td>Radial Velocity</td>\n",
       "    </tr>\n",
       "    <tr>\n",
       "      <th>CoRoT-7 b</th>\n",
       "      <td>522.0</td>\n",
       "      <td>11.72800</td>\n",
       "      <td>Super Earth</td>\n",
       "      <td>2009</td>\n",
       "      <td>4.08</td>\n",
       "      <td>1.6810</td>\n",
       "      <td>0.017016</td>\n",
       "      <td>0.002464</td>\n",
       "      <td>0.00</td>\n",
       "      <td>Transit</td>\n",
       "    </tr>\n",
       "    <tr>\n",
       "      <th>DMPP-1 d</th>\n",
       "      <td>204.0</td>\n",
       "      <td>7.98000</td>\n",
       "      <td>Super Earth</td>\n",
       "      <td>2019</td>\n",
       "      <td>3.35</td>\n",
       "      <td>1.6500</td>\n",
       "      <td>0.042200</td>\n",
       "      <td>0.007940</td>\n",
       "      <td>0.07</td>\n",
       "      <td>Radial Velocity</td>\n",
       "    </tr>\n",
       "    <tr>\n",
       "      <th>DMPP-1 e</th>\n",
       "      <td>204.0</td>\n",
       "      <td>7.98000</td>\n",
       "      <td>Super Earth</td>\n",
       "      <td>2019</td>\n",
       "      <td>4.13</td>\n",
       "      <td>1.8600</td>\n",
       "      <td>0.065100</td>\n",
       "      <td>0.015058</td>\n",
       "      <td>0.07</td>\n",
       "      <td>Radial Velocity</td>\n",
       "    </tr>\n",
       "    <tr>\n",
       "      <th>EPIC 201497682 b</th>\n",
       "      <td>825.0</td>\n",
       "      <td>13.94800</td>\n",
       "      <td>Terrestrial</td>\n",
       "      <td>2019</td>\n",
       "      <td>0.26</td>\n",
       "      <td>0.6920</td>\n",
       "      <td>NaN</td>\n",
       "      <td>0.005749</td>\n",
       "      <td>0.00</td>\n",
       "      <td>Transit</td>\n",
       "    </tr>\n",
       "    <tr>\n",
       "      <th>EPIC 201757695.02</th>\n",
       "      <td>1884.0</td>\n",
       "      <td>14.97400</td>\n",
       "      <td>Terrestrial</td>\n",
       "      <td>2020</td>\n",
       "      <td>0.69</td>\n",
       "      <td>0.9080</td>\n",
       "      <td>0.029600</td>\n",
       "      <td>0.005476</td>\n",
       "      <td>0.00</td>\n",
       "      <td>Transit</td>\n",
       "    </tr>\n",
       "    <tr>\n",
       "      <th>EPIC 201833600 c</th>\n",
       "      <td>840.0</td>\n",
       "      <td>14.70500</td>\n",
       "      <td>Terrestrial</td>\n",
       "      <td>2019</td>\n",
       "      <td>0.97</td>\n",
       "      <td>1.0000</td>\n",
       "      <td>NaN</td>\n",
       "      <td>0.010951</td>\n",
       "      <td>0.00</td>\n",
       "      <td>Transit</td>\n",
       "    </tr>\n",
       "    <tr>\n",
       "      <th>EPIC 206215704 b</th>\n",
       "      <td>358.0</td>\n",
       "      <td>17.83000</td>\n",
       "      <td>Terrestrial</td>\n",
       "      <td>2019</td>\n",
       "      <td>0.97</td>\n",
       "      <td>1.0000</td>\n",
       "      <td>NaN</td>\n",
       "      <td>0.006297</td>\n",
       "      <td>0.00</td>\n",
       "      <td>Transit</td>\n",
       "    </tr>\n",
       "    <tr>\n",
       "      <th>EPIC 206317286 b</th>\n",
       "      <td>1025.0</td>\n",
       "      <td>14.00500</td>\n",
       "      <td>Terrestrial</td>\n",
       "      <td>2019</td>\n",
       "      <td>0.84</td>\n",
       "      <td>0.9600</td>\n",
       "      <td>NaN</td>\n",
       "      <td>0.004381</td>\n",
       "      <td>0.00</td>\n",
       "      <td>Transit</td>\n",
       "    </tr>\n",
       "    <tr>\n",
       "      <th>KIC 10001893 b</th>\n",
       "      <td>5457.0</td>\n",
       "      <td>15.82900</td>\n",
       "      <td>Unknown</td>\n",
       "      <td>2014</td>\n",
       "      <td>NaN</td>\n",
       "      <td>NaN</td>\n",
       "      <td>NaN</td>\n",
       "      <td>0.000548</td>\n",
       "      <td>0.00</td>\n",
       "      <td>Orbital Brightness Modulation</td>\n",
       "    </tr>\n",
       "    <tr>\n",
       "      <th>KIC 10001893 c</th>\n",
       "      <td>5457.0</td>\n",
       "      <td>15.82900</td>\n",
       "      <td>Unknown</td>\n",
       "      <td>2014</td>\n",
       "      <td>NaN</td>\n",
       "      <td>NaN</td>\n",
       "      <td>NaN</td>\n",
       "      <td>0.000821</td>\n",
       "      <td>0.00</td>\n",
       "      <td>Orbital Brightness Modulation</td>\n",
       "    </tr>\n",
       "    <tr>\n",
       "      <th>KIC 10001893 d</th>\n",
       "      <td>5457.0</td>\n",
       "      <td>15.82900</td>\n",
       "      <td>Unknown</td>\n",
       "      <td>2014</td>\n",
       "      <td>NaN</td>\n",
       "      <td>NaN</td>\n",
       "      <td>NaN</td>\n",
       "      <td>0.002190</td>\n",
       "      <td>0.00</td>\n",
       "      <td>Orbital Brightness Modulation</td>\n",
       "    </tr>\n",
       "  </tbody>\n",
       "</table>\n",
       "</div>"
      ],
      "text/plain": [
       "                      distance  star_mag   planet_type  discovery_yr  mass_ME  \\\n",
       "#name                                                                           \n",
       "11 Comae Berenices b     304.0   4.72307     Gas Giant          2007  6169.20   \n",
       "11 Ursae Minoris b       409.0   5.01300     Gas Giant          2009  4687.32   \n",
       "14 Andromedae b          246.0   5.23133     Gas Giant          2008  1526.40   \n",
       "14 Herculis b             58.0   6.61935     Gas Giant          2002  2588.14   \n",
       "16 Cygni B b              69.0   6.21500     Gas Giant          1996   566.04   \n",
       "55 Cancri e               41.0   5.95084   Super Earth          2004     7.99   \n",
       "61 Virginis b             28.0   4.69550  Neptune-like          2009     5.10   \n",
       "61 Virginis c             28.0   4.69550  Neptune-like          2009    18.20   \n",
       "61 Virginis d             28.0   4.69550  Neptune-like          2009    22.90   \n",
       "AU Microscopii b          32.0   8.81000  Neptune-like          2020    20.12   \n",
       "AU Microscopii c          32.0   8.81000  Neptune-like          2021     9.60   \n",
       "CD Ceti b                 28.0  13.95000   Super Earth          2020     3.95   \n",
       "CoRoT-7 b                522.0  11.72800   Super Earth          2009     4.08   \n",
       "DMPP-1 d                 204.0   7.98000   Super Earth          2019     3.35   \n",
       "DMPP-1 e                 204.0   7.98000   Super Earth          2019     4.13   \n",
       "EPIC 201497682 b         825.0  13.94800   Terrestrial          2019     0.26   \n",
       "EPIC 201757695.02       1884.0  14.97400   Terrestrial          2020     0.69   \n",
       "EPIC 201833600 c         840.0  14.70500   Terrestrial          2019     0.97   \n",
       "EPIC 206215704 b         358.0  17.83000   Terrestrial          2019     0.97   \n",
       "EPIC 206317286 b        1025.0  14.00500   Terrestrial          2019     0.84   \n",
       "KIC 10001893 b          5457.0  15.82900       Unknown          2014      NaN   \n",
       "KIC 10001893 c          5457.0  15.82900       Unknown          2014      NaN   \n",
       "KIC 10001893 d          5457.0  15.82900       Unknown          2014      NaN   \n",
       "\n",
       "                      radius_RE  orbital_radius_AU  orbital_period_yr  \\\n",
       "#name                                                                   \n",
       "11 Comae Berenices b    12.0960           1.290000           0.892539   \n",
       "11 Ursae Minoris b      12.2080           1.530000           1.400000   \n",
       "14 Andromedae b         12.8800           0.830000           0.508693   \n",
       "14 Herculis b           12.5440           2.773069           4.800000   \n",
       "16 Cygni B b            13.4400           1.660000           2.200000   \n",
       "55 Cancri e              1.8750           0.015440           0.001916   \n",
       "61 Virginis b            2.1100           0.050201           0.011499   \n",
       "61 Virginis c            4.4576           0.217500           0.104038   \n",
       "61 Virginis d            5.1072           0.476000           0.336756   \n",
       "AU Microscopii b         4.0656           0.064500           0.023272   \n",
       "AU Microscopii c         3.2368           0.110100           0.051745   \n",
       "CD Ceti b                1.8200           0.018500           0.006297   \n",
       "CoRoT-7 b                1.6810           0.017016           0.002464   \n",
       "DMPP-1 d                 1.6500           0.042200           0.007940   \n",
       "DMPP-1 e                 1.8600           0.065100           0.015058   \n",
       "EPIC 201497682 b         0.6920                NaN           0.005749   \n",
       "EPIC 201757695.02        0.9080           0.029600           0.005476   \n",
       "EPIC 201833600 c         1.0000                NaN           0.010951   \n",
       "EPIC 206215704 b         1.0000                NaN           0.006297   \n",
       "EPIC 206317286 b         0.9600                NaN           0.004381   \n",
       "KIC 10001893 b              NaN                NaN           0.000548   \n",
       "KIC 10001893 c              NaN                NaN           0.000821   \n",
       "KIC 10001893 d              NaN                NaN           0.002190   \n",
       "\n",
       "                      eccentricity               detection_method  \n",
       "#name                                                              \n",
       "11 Comae Berenices b          0.23                Radial Velocity  \n",
       "11 Ursae Minoris b            0.08                Radial Velocity  \n",
       "14 Andromedae b               0.00                Radial Velocity  \n",
       "14 Herculis b                 0.37                Radial Velocity  \n",
       "16 Cygni B b                  0.68                Radial Velocity  \n",
       "55 Cancri e                   0.05                Radial Velocity  \n",
       "61 Virginis b                 0.12                Radial Velocity  \n",
       "61 Virginis c                 0.14                Radial Velocity  \n",
       "61 Virginis d                 0.35                Radial Velocity  \n",
       "AU Microscopii b              0.19                        Transit  \n",
       "AU Microscopii c              0.04                        Transit  \n",
       "CD Ceti b                     0.00                Radial Velocity  \n",
       "CoRoT-7 b                     0.00                        Transit  \n",
       "DMPP-1 d                      0.07                Radial Velocity  \n",
       "DMPP-1 e                      0.07                Radial Velocity  \n",
       "EPIC 201497682 b              0.00                        Transit  \n",
       "EPIC 201757695.02             0.00                        Transit  \n",
       "EPIC 201833600 c              0.00                        Transit  \n",
       "EPIC 206215704 b              0.00                        Transit  \n",
       "EPIC 206317286 b              0.00                        Transit  \n",
       "KIC 10001893 b                0.00  Orbital Brightness Modulation  \n",
       "KIC 10001893 c                0.00  Orbital Brightness Modulation  \n",
       "KIC 10001893 d                0.00  Orbital Brightness Modulation  "
      ]
     },
     "execution_count": 30,
     "metadata": {},
     "output_type": "execute_result"
    }
   ],
   "source": [
    "grouped_pt.head()"
   ]
  },
  {
   "cell_type": "code",
   "execution_count": 27,
   "id": "9f42cec2-fca3-4120-87ff-fe852cd7b530",
   "metadata": {},
   "outputs": [
    {
     "data": {
      "text/plain": [
       "planet_type\n",
       "Gas Giant       13.1040\n",
       "Neptune-like     2.8112\n",
       "Super Earth      1.5500\n",
       "Terrestrial      0.8600\n",
       "Unknown             NaN\n",
       "Name: radius_RE, dtype: float64"
      ]
     },
     "execution_count": 27,
     "metadata": {},
     "output_type": "execute_result"
    }
   ],
   "source": [
    "grouped_pt['radius_RE'].median()"
   ]
  },
  {
   "cell_type": "code",
   "execution_count": 68,
   "id": "06fd6f9b-1737-4ca5-8743-0d61ac3f0605",
   "metadata": {},
   "outputs": [],
   "source": [
    "exos2=grouped_pt.filter(lambda g: len(g)>5)"
   ]
  },
  {
   "cell_type": "code",
   "execution_count": 71,
   "id": "ddcc51ee-70cc-4947-9d8d-7ce95e9a5611",
   "metadata": {},
   "outputs": [
    {
     "data": {
      "text/plain": [
       "planet_type\n",
       "Neptune-like    1825\n",
       "Gas Giant       1630\n",
       "Super Earth     1595\n",
       "Terrestrial      195\n",
       "Unknown            3\n",
       "Name: count, dtype: int64"
      ]
     },
     "execution_count": 71,
     "metadata": {},
     "output_type": "execute_result"
    }
   ],
   "source": [
    "exos['planet_type'].value_counts()"
   ]
  },
  {
   "cell_type": "markdown",
   "id": "19f8681d-e7c4-4948-a813-70e8fe1291a5",
   "metadata": {},
   "source": [
    "#### XI. Complex functions: `.agg()`\n",
    "Call the `.agg()` function on `grouped_pt` (the exoplanets DataFrame grouped by `'planet_type'`) to calculate\n",
    "- the `mean` of `'mass_ME'`, \n",
    "- the `median` of `'radius_RE'`, and\n",
    "- the 0.5 `quantile` (50th percentile, default for the quantile function) of `'orbital_period_yr'`\n",
    "in 1 line of code. Consult [this link to the documentation](https://pandas.pydata.org/docs/user_guide/basics.html#aggregating-with-multiple-functions) (Hint: `.agg()` doesn’t care if the input DataFrame is grouped)"
   ]
  },
  {
   "cell_type": "code",
   "execution_count": 34,
   "id": "d7fb8c07-c2f9-4e89-b306-5cae41caa3dc",
   "metadata": {},
   "outputs": [],
   "source": [
    "gpo = grouped_pt.agg({'mass_ME':['mean', 'std'], 'radius_RE':'median', 'orbital_period_yr':'quantile'})"
   ]
  },
  {
   "cell_type": "code",
   "execution_count": 35,
   "id": "b6ce48d4-d552-4743-9d76-1eb1ee3aea96",
   "metadata": {},
   "outputs": [
    {
     "data": {
      "text/html": [
       "<div>\n",
       "<style scoped>\n",
       "    .dataframe tbody tr th:only-of-type {\n",
       "        vertical-align: middle;\n",
       "    }\n",
       "\n",
       "    .dataframe tbody tr th {\n",
       "        vertical-align: top;\n",
       "    }\n",
       "\n",
       "    .dataframe thead tr th {\n",
       "        text-align: left;\n",
       "    }\n",
       "\n",
       "    .dataframe thead tr:last-of-type th {\n",
       "        text-align: right;\n",
       "    }\n",
       "</style>\n",
       "<table border=\"1\" class=\"dataframe\">\n",
       "  <thead>\n",
       "    <tr>\n",
       "      <th></th>\n",
       "      <th colspan=\"2\" halign=\"left\">mass_ME</th>\n",
       "      <th>radius_RE</th>\n",
       "      <th>orbital_period_yr</th>\n",
       "    </tr>\n",
       "    <tr>\n",
       "      <th></th>\n",
       "      <th>mean</th>\n",
       "      <th>std</th>\n",
       "      <th>median</th>\n",
       "      <th>quantile</th>\n",
       "    </tr>\n",
       "    <tr>\n",
       "      <th>planet_type</th>\n",
       "      <th></th>\n",
       "      <th></th>\n",
       "      <th></th>\n",
       "      <th></th>\n",
       "    </tr>\n",
       "  </thead>\n",
       "  <tbody>\n",
       "    <tr>\n",
       "      <th>Gas Giant</th>\n",
       "      <td>1468.471433</td>\n",
       "      <td>6664.964763</td>\n",
       "      <td>13.1040</td>\n",
       "      <td>0.391239</td>\n",
       "    </tr>\n",
       "    <tr>\n",
       "      <th>Neptune-like</th>\n",
       "      <td>15.289496</td>\n",
       "      <td>54.296279</td>\n",
       "      <td>2.8112</td>\n",
       "      <td>0.045448</td>\n",
       "    </tr>\n",
       "    <tr>\n",
       "      <th>Super Earth</th>\n",
       "      <td>5.775166</td>\n",
       "      <td>27.183984</td>\n",
       "      <td>1.5500</td>\n",
       "      <td>0.019713</td>\n",
       "    </tr>\n",
       "    <tr>\n",
       "      <th>Terrestrial</th>\n",
       "      <td>1.608564</td>\n",
       "      <td>11.395427</td>\n",
       "      <td>0.8600</td>\n",
       "      <td>0.010951</td>\n",
       "    </tr>\n",
       "    <tr>\n",
       "      <th>Unknown</th>\n",
       "      <td>NaN</td>\n",
       "      <td>NaN</td>\n",
       "      <td>NaN</td>\n",
       "      <td>0.000821</td>\n",
       "    </tr>\n",
       "  </tbody>\n",
       "</table>\n",
       "</div>"
      ],
      "text/plain": [
       "                  mass_ME              radius_RE orbital_period_yr\n",
       "                     mean          std    median          quantile\n",
       "planet_type                                                       \n",
       "Gas Giant     1468.471433  6664.964763   13.1040          0.391239\n",
       "Neptune-like    15.289496    54.296279    2.8112          0.045448\n",
       "Super Earth      5.775166    27.183984    1.5500          0.019713\n",
       "Terrestrial      1.608564    11.395427    0.8600          0.010951\n",
       "Unknown               NaN          NaN       NaN          0.000821"
      ]
     },
     "execution_count": 35,
     "metadata": {},
     "output_type": "execute_result"
    }
   ],
   "source": [
    "gpo"
   ]
  },
  {
   "cell_type": "markdown",
   "id": "7b0284e2-4bf9-4aeb-a4a8-708890730a07",
   "metadata": {},
   "source": [
    "#### XII. Built-In Plotting Methods\n",
    "Consulting [the docs](https://pandas.pydata.org/docs/user_guide/visualization.html) for how to invoke each kind of plot,\n",
    "1. Make a KDE plot of the `y='radius_RE'` column of the exoplanets DataFrame. Set the x-limits to 0 and 30."
   ]
  },
  {
   "cell_type": "code",
   "execution_count": 81,
   "id": "85dbb681-16dc-4019-a7bc-4a4df95ef7df",
   "metadata": {},
   "outputs": [
    {
     "data": {
      "text/plain": [
       "<Axes: ylabel='Density'>"
      ]
     },
     "execution_count": 81,
     "metadata": {},
     "output_type": "execute_result"
    },
    {
     "data": {
      "image/png": "[encoded data removed]",
      "text/plain": [
       "<Figure size 640x480 with 1 Axes>"
      ]
     },
     "metadata": {},
     "output_type": "display_data"
    }
   ],
   "source": [
    "exos.plot(kind='kde',y='radius_RE',xlim=[0,30])"
   ]
  },
  {
   "cell_type": "markdown",
   "id": "d1280780-36db-4e82-ae60-588fd5bb0915",
   "metadata": {},
   "source": [
    "#### XIII. Time Series\n",
    "\n",
    "1. Initialize a datetime index with 10 timestamps, 1 second apart, ending on midnight 1/1/2025. Use the `date_range()` function."
   ]
  },
  {
   "cell_type": "code",
   "execution_count": 8,
   "id": "eae1313c-d344-4998-a190-00b927396ae2",
   "metadata": {},
   "outputs": [
    {
     "name": "stdout",
     "output_type": "stream",
     "text": [
      "DatetimeIndex(['2024-12-31 23:59:51', '2024-12-31 23:59:52',\n",
      "               '2024-12-31 23:59:53', '2024-12-31 23:59:54',\n",
      "               '2024-12-31 23:59:55', '2024-12-31 23:59:56',\n",
      "               '2024-12-31 23:59:57', '2024-12-31 23:59:58',\n",
      "               '2024-12-31 23:59:59', '2025-01-01 00:00:00'],\n",
      "              dtype='datetime64[ns]', freq='S')\n"
     ]
    }
   ],
   "source": [
    "ts = pd.date_range(end='01/01/2025', freq='1s', periods=10)\n",
    "print(ts)"
   ]
  },
  {
   "cell_type": "markdown",
   "id": "d906ac30-5488-44bf-901b-545f019922f0",
   "metadata": {},
   "source": [
    "#### XIV. The Categorical Data-type\n",
    "Print the memory usage of the exoplanets DataFrame with `deep=True`. Then convert the `'planet_type'` and `'detection_method'` columns to `'category'` type and print the memory usage again. Each column should be <2% of its original size in memory."
   ]
  },
  {
   "cell_type": "code",
   "execution_count": 36,
   "id": "61c30f91-70ba-41f8-8070-d0299bd6cddc",
   "metadata": {},
   "outputs": [
    {
     "data": {
      "text/plain": [
       "Index                449522\n",
       "distance              41984\n",
       "star_mag              41984\n",
       "planet_type          313433\n",
       "discovery_yr          41984\n",
       "mass_ME               41984\n",
       "radius_RE             41984\n",
       "orbital_radius_AU     41984\n",
       "orbital_period_yr     41984\n",
       "eccentricity          41984\n",
       "detection_method     306482\n",
       "dtype: int64"
      ]
     },
     "execution_count": 36,
     "metadata": {},
     "output_type": "execute_result"
    }
   ],
   "source": [
    "exos.memory_usage(deep=True)"
   ]
  },
  {
   "cell_type": "code",
   "execution_count": 37,
   "id": "2c80b196-0244-44e8-b67c-f258f3b3ffc4",
   "metadata": {},
   "outputs": [],
   "source": [
    "exos['planet_type'] = exos['planet_type'].astype('category')\n",
    "exos['detection_method'] = exos['detection_method'].astype('category')"
   ]
  },
  {
   "cell_type": "code",
   "execution_count": 38,
   "id": "c3fe6855-4ee7-4db5-bc20-9802bdf652f2",
   "metadata": {},
   "outputs": [
    {
     "data": {
      "text/plain": [
       "Index                449522\n",
       "distance              41984\n",
       "star_mag              41984\n",
       "planet_type            5715\n",
       "discovery_yr          41984\n",
       "mass_ME               41984\n",
       "radius_RE             41984\n",
       "orbital_radius_AU     41984\n",
       "orbital_period_yr     41984\n",
       "eccentricity          41984\n",
       "detection_method       6293\n",
       "dtype: int64"
      ]
     },
     "execution_count": 38,
     "metadata": {},
     "output_type": "execute_result"
    }
   ],
   "source": [
    "exos.memory_usage(deep=True)"
   ]
  },
  {
   "cell_type": "markdown",
   "id": "d1f90545-5623-44e9-9efd-8c2ab89247ab",
   "metadata": {},
   "source": [
    "#### XV. Numba demo\n",
    "The example below doesn’t make much physical sense, but run it and compare the outputs of the 2 `timeit` lines. Try increasing or decreasing the number of samples or vary the number of numeric columns.\n",
    "\n",
    "If you're on LUNARC and started Jupyter On Demand with the default number of tasks per node, you may have to restart it with 4 tasks per node given the number of threads in the example below."
   ]
  },
  {
   "cell_type": "code",
   "execution_count": 16,
   "id": "88d6464c-aa98-48ca-bfb4-c9c89ee8e6dc",
   "metadata": {},
   "outputs": [],
   "source": [
    "import numba"
   ]
  },
  {
   "cell_type": "code",
   "execution_count": 17,
   "id": "da2ae987-5596-42b5-86f2-9b8fe772925f",
   "metadata": {},
   "outputs": [
    {
     "ename": "ValueError",
     "evalue": "The number of threads must be between 1 and 1",
     "output_type": "error",
     "traceback": [
      "\u001b[0;31m---------------------------------------------------------------------------\u001b[0m",
      "\u001b[0;31mValueError\u001b[0m                                Traceback (most recent call last)",
      "Cell \u001b[0;32mIn[17], line 1\u001b[0m\n\u001b[0;32m----> 1\u001b[0m numba\u001b[38;5;241m.\u001b[39mset_num_threads(\u001b[38;5;241m4\u001b[39m)\n\u001b[1;32m      2\u001b[0m stuff \u001b[38;5;241m=\u001b[39m  df\u001b[38;5;241m.\u001b[39miloc[:,\u001b[38;5;241m4\u001b[39m:\u001b[38;5;241m9\u001b[39m]\u001b[38;5;241m.\u001b[39msample(n\u001b[38;5;241m=\u001b[39m\u001b[38;5;241m250000\u001b[39m, replace\u001b[38;5;241m=\u001b[39m\u001b[38;5;28;01mTrue\u001b[39;00m, ignore_index\u001b[38;5;241m=\u001b[39m\u001b[38;5;28;01mTrue\u001b[39;00m)\n\u001b[1;32m      3\u001b[0m get_ipython()\u001b[38;5;241m.\u001b[39mrun_line_magic(\u001b[38;5;124m'\u001b[39m\u001b[38;5;124mtimeit\u001b[39m\u001b[38;5;124m'\u001b[39m, \u001b[38;5;124m'\u001b[39m\u001b[38;5;124mstuff.rolling(500).mean()\u001b[39m\u001b[38;5;124m'\u001b[39m)\n",
      "File \u001b[0;32m/sw/easybuild_milan/software/Anaconda3/2024.02-1/lib/python3.11/site-packages/numba/np/ufunc/parallel.py:610\u001b[0m, in \u001b[0;36mset_num_threads\u001b[0;34m(n)\u001b[0m\n\u001b[1;32m    608\u001b[0m \u001b[38;5;28;01mif\u001b[39;00m \u001b[38;5;129;01mnot\u001b[39;00m \u001b[38;5;28misinstance\u001b[39m(n, (\u001b[38;5;28mint\u001b[39m, np\u001b[38;5;241m.\u001b[39minteger)):\n\u001b[1;32m    609\u001b[0m     \u001b[38;5;28;01mraise\u001b[39;00m \u001b[38;5;167;01mTypeError\u001b[39;00m(\u001b[38;5;124m\"\u001b[39m\u001b[38;5;124mThe number of threads specified must be an integer\u001b[39m\u001b[38;5;124m\"\u001b[39m)\n\u001b[0;32m--> 610\u001b[0m snt_check(n)\n\u001b[1;32m    611\u001b[0m _set_num_threads(n)\n",
      "File \u001b[0;32m/sw/easybuild_milan/software/Anaconda3/2024.02-1/lib/python3.11/site-packages/numba/np/ufunc/parallel.py:572\u001b[0m, in \u001b[0;36mgen_snt_check.<locals>.snt_check\u001b[0;34m(n)\u001b[0m\n\u001b[1;32m    570\u001b[0m \u001b[38;5;28;01mdef\u001b[39;00m \u001b[38;5;21msnt_check\u001b[39m(n):\n\u001b[1;32m    571\u001b[0m     \u001b[38;5;28;01mif\u001b[39;00m n \u001b[38;5;241m>\u001b[39m NUMBA_NUM_THREADS \u001b[38;5;129;01mor\u001b[39;00m n \u001b[38;5;241m<\u001b[39m \u001b[38;5;241m1\u001b[39m:\n\u001b[0;32m--> 572\u001b[0m         \u001b[38;5;28;01mraise\u001b[39;00m \u001b[38;5;167;01mValueError\u001b[39;00m(msg)\n",
      "\u001b[0;31mValueError\u001b[0m: The number of threads must be between 1 and 1"
     ]
    }
   ],
   "source": [
    "numba.set_num_threads(4)\n",
    "stuff =  df.iloc[:,4:9].sample(n=250000, replace=True, ignore_index=True)\n",
    "%timeit stuff.rolling(500).mean()\n",
    "%timeit stuff.rolling(500).mean(engine='numba', engine_kwargs={\"parallel\": True})"
   ]
  },
  {
   "cell_type": "code",
   "execution_count": null,
   "id": "92154003-d94b-4fc1-a848-03cd32117c60",
   "metadata": {},
   "outputs": [],
   "source": []
  }
 ],
 "metadata": {
  "kernelspec": {
   "display_name": "Python 3 (ipykernel)",
   "language": "python",
   "name": "python3"
  },
  "language_info": {
   "codemirror_mode": {
    "name": "ipython",
    "version": 3
   },
   "file_extension": ".py",
   "mimetype": "text/x-python",
   "name": "python",
   "nbconvert_exporter": "python",
   "pygments_lexer": "ipython3",
   "version": "3.13.2"
  }
 },
 "nbformat": 4,
 "nbformat_minor": 5
}

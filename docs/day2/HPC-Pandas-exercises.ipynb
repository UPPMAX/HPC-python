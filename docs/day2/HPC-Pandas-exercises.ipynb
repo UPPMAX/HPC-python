{
 "cells": [
  {
   "cell_type": "markdown",
   "id": "62df78c7-31c3-4125-a050-e604d4c97c9a",
   "metadata": {},
   "source": [
    "# Pandas Exercises\n",
    "Here you can test your comprehension of the Pandas introductory material. As with most coding packages, it is more important that you understand enough to know what to look for if you get stuck than it is to actually memorize all the methods, attributes, and syntax. You are welcome to consult the lecture material and/or the [official documentation](https://pandas.pydata.org/docs/user_guide/10min.html) whenever you want.\n",
    "\n",
    "Just do what you can figure out how to do with the time you have.\n",
    "\n",
    "This exercise is meant to simulate a semi-realistic workflow on a real data set. You'll be using data on various metrics of the COVID19 pandemic throughout Italy in 2020.\n",
    "\n",
    "0. **Start by importing Pandas and NumPy** (to make sure you have the right modules loaded):"
   ]
  },
  {
   "cell_type": "code",
   "execution_count": 11,
   "id": "e14561c8-4655-49e0-8732-2dbcc3130960",
   "metadata": {
    "tags": []
   },
   "outputs": [],
   "source": [
    "# import numpy and pandas\n",
    "\n"
   ]
  },
  {
   "cell_type": "markdown",
   "id": "9b9a8198-1cac-4b89-8a1f-13a33dab2e50",
   "metadata": {},
   "source": [
    "1. Load the file `covid19_italy_region.csv` into a DataFrame called `it_covid19`. Use the appropriate kwargs to set the leftmost column as the row indexes. You may refer to official documentation on file readers as needed."
   ]
  },
  {
   "cell_type": "code",
   "execution_count": 13,
   "id": "d78a4cf4-21d3-4549-988f-33827e4668b2",
   "metadata": {
    "tags": []
   },
   "outputs": [],
   "source": [
    "# load 'covid19_italy_region.csv' into a DataFrame\n"
   ]
  },
  {
   "cell_type": "markdown",
   "id": "75bab724-678c-4d3b-8b90-356da11a8b6d",
   "metadata": {},
   "source": [
    "2. Inspect `it_covid19` by printing the following (hint: each prompt requires a different 1-word command):\n",
    "   \n",
    "    a. The **last** 5 rows of the DataFrame (fewer 0s than the first 5)\n",
    "   \n",
    "    b. The table listing the names, number of non-null entries, and data types of each column\n",
    "\n",
    "    c. The number of unique values in each column"
   ]
  },
  {
   "cell_type": "code",
   "execution_count": 3,
   "id": "1b7d0d68-3459-4d64-9826-9aa7d71f8a24",
   "metadata": {
    "tags": []
   },
   "outputs": [],
   "source": [
    "#a. print last 5 rows\n"
   ]
  },
  {
   "cell_type": "code",
   "execution_count": 5,
   "id": "df74c117-3b52-4716-85f4-39ff1692a4e2",
   "metadata": {
    "tags": []
   },
   "outputs": [],
   "source": [
    "#b. print column info table\n"
   ]
  },
  {
   "cell_type": "code",
   "execution_count": 7,
   "id": "bf7b7df6-c26e-43de-b06d-b488ff812603",
   "metadata": {
    "tags": []
   },
   "outputs": [],
   "source": [
    "#c. print number of unique values in each column\n"
   ]
  },
  {
   "cell_type": "markdown",
   "id": "b776e939-0e00-4f12-9516-fc603f92dac1",
   "metadata": {},
   "source": [
    "3. As you can see from the previous question, there is only 1 value in the `Country` column, and you can safely assume the `RegionCode`, `RegionName`, `Latitude`, and `Longitude` columns are degenerate. **Drop the `Country`, `RegionCode`, `Latitude`, and `Longitude` columns from `it_covid19`, all in-place, but keep the `RegionName` column.** Make sure you specify the correct axis when you drop!"
   ]
  },
  {
   "cell_type": "code",
   "execution_count": 9,
   "id": "d1436f19-b106-4709-b52a-a1428a521108",
   "metadata": {
    "tags": []
   },
   "outputs": [],
   "source": [
    "# drop Country, RegionCode, Latitude, and Longitude in-place\n"
   ]
  },
  {
   "cell_type": "markdown",
   "id": "e4094615-c5bb-4788-924d-838ee0d5c4f0",
   "metadata": {},
   "source": [
    "For the next couple of problems, there is a tab-separated text table of the regions of Italy, their March 2020 populations (except P. A. Trento and Bolzano, whose numbers are from 2021), and population densities provided. Getting time-resolved population data was more trouble than these exercises warrant, so this won't be very scientific, but you will get some (more) experience with the `groupby()`, `compare()`, and `apply()` methods.\n",
    " \n",
    "4. Load the file `'ita_pop_by_reg.txt'` with `read_csv()` (note that the delimiters in this text file are tabs, not commas) into a variable called `it_pop`. Don't set anything as the Index yet, but it's a good idea to view the resulting DataFrame."
   ]
  },
  {
   "cell_type": "code",
   "execution_count": 15,
   "id": "d9979d11-49e4-489e-9af9-cc43f84097c3",
   "metadata": {
    "tags": []
   },
   "outputs": [],
   "source": [
    "#4. Load 'ita_pop_by_reg.txt'\n",
    "\n"
   ]
  },
  {
   "cell_type": "markdown",
   "id": "d91c52c6-4830-44fe-9795-6b3c85821bd4",
   "metadata": {},
   "source": [
    "5. Get the unique values of the `'RegionName'` column of the `it_covid19` DataFrame, convert the result to a Series (just plug it straight into the Pandas Series definition function), and `compare` them to the Region column of the table you just loaded. That whole sentence's worth of instructions can be done in one line. The `compare` method should return 1 subtle discrepancy."
   ]
  },
  {
   "cell_type": "code",
   "execution_count": 17,
   "id": "63543c5d-b642-4588-af4f-ce1eb233a9aa",
   "metadata": {
    "tags": []
   },
   "outputs": [],
   "source": [
    "# 5. compare series of 'RegionName' unique values in it_covid19 to it_pop['Region']\n"
   ]
  },
  {
   "cell_type": "markdown",
   "id": "b2422219-67bc-4293-8354-a0fe1962dad9",
   "metadata": {},
   "source": [
    "6. Use string vectorization to `replace` the problematic strings in the relevant column in your choice of one or the other DataFrame. Then rerun the `compare()` command above and make sure it comes back empty. (Hint: there's a reason \"replace\" is typeset as code.)"
   ]
  },
  {
   "cell_type": "code",
   "execution_count": 21,
   "id": "749224f4-7c51-4fe0-9a3c-e85f2746052a",
   "metadata": {
    "tags": []
   },
   "outputs": [],
   "source": [
    "# replace the discrepant strings and double check\n",
    "\n",
    "\n"
   ]
  },
  {
   "cell_type": "markdown",
   "id": "e7951ecf-477e-4de4-ba7e-aef48358578c",
   "metadata": {},
   "source": [
    "7. Group `it_covid19` by `'RegionName'` and print the maximum values for all the numeric columns for each group (don't forget, there's a kwarg you'll have to pass to `max()` to keep it from raising an error). The whole command should fit on one line."
   ]
  },
  {
   "cell_type": "code",
   "execution_count": null,
   "id": "d8d17db4-6eac-49ea-b1cc-e9edcbf80bdd",
   "metadata": {
    "tags": []
   },
   "outputs": [],
   "source": []
  },
  {
   "cell_type": "markdown",
   "id": "e5f34c1d-abc8-4784-88ce-fb2725f30c28",
   "metadata": {},
   "source": [
    "8. Challenge time! We're going to use the populations from `it_pop` to get an estimated running percentage of the population that had been infected, assuming (probably incorrectly) this was too early in the pandemic for many reinfections to have occurred. We will use the `.apply()` function on the `it_covid19` DataFrame to divide the `'TotalPositiveCases` column by the Region's population to get an unadjusted cumulative per-capita infection rate converted to a percentage.\n",
    "\n",
    "    a. First, set the `\"Region\"` column of `it_pop` as the index of that DataFrame in-place.\n",
    "    \n",
    "    b. For the sake of time, most of the function you will have to use in the next step has been written for you. Fill in the remainder of the definition of function `per_cap()` at the locations of the ellipses (...).\n",
    "    \n",
    "    c. Using the `.apply()` function on the `it_covid19` DataFrame, divide the `'TotalPositiveCases` column by the Region's population to get an unadjusted cumulative per capita infection rate converted to a percentage. Set the result equal to a new column of DataFrame `it_covid19`, labelled `'TotCasesPct'` or something similarly informative.\n",
    "    \n",
    "    d. Group `it_covid19` by RegionName again and use `.nth()` to retrieve the last row of both the `RegionName` column and the new column for each Region."
   ]
  },
  {
   "cell_type": "code",
   "execution_count": 24,
   "id": "9936845f-2eb0-4765-bf59-56fbba724e7e",
   "metadata": {
    "tags": []
   },
   "outputs": [],
   "source": [
    "#8-a. Set Region as index of `it_pop`\n"
   ]
  },
  {
   "cell_type": "code",
   "execution_count": 110,
   "id": "d1b256c5-72a4-4b62-bb05-dca4dbfa0638",
   "metadata": {
    "tags": []
   },
   "outputs": [],
   "source": [
    "#8-b. Finish the per_cap function\n",
    "def per_cap(row):\n",
    "    pop=it_pop.loc[ ... ]\n",
    "    return ..."
   ]
  },
  {
   "cell_type": "code",
   "execution_count": 115,
   "id": "cae8cf94-2d86-490a-8bd3-b27f680331a8",
   "metadata": {
    "tags": []
   },
   "outputs": [],
   "source": [
    "#8-c. Apply the function column-wise and assign it to the column 'TotCasesPct'\n",
    "it_covid19['TotCasesPct'] = "
   ]
  },
  {
   "cell_type": "code",
   "execution_count": 27,
   "id": "d5906099-0e29-481d-be42-c3d80e712b30",
   "metadata": {
    "tags": []
   },
   "outputs": [],
   "source": [
    "#8-d. Group the results by RegionName again and print the n=-1 row of 'TotCasesPct' by Region\n"
   ]
  },
  {
   "cell_type": "markdown",
   "id": "c0c2ef8e-7a09-41f4-a6f3-76912b27cf22",
   "metadata": {},
   "source": [
    "### That's all for now! Good job!"
   ]
  },
  {
   "cell_type": "code",
   "execution_count": null,
   "id": "cc295159-309e-4b31-94b1-3cb6743e7ff6",
   "metadata": {},
   "outputs": [],
   "source": []
  }
 ],
 "metadata": {
  "kernelspec": {
   "display_name": "Python 3 (ipykernel)",
   "language": "python",
   "name": "python3"
  },
  "language_info": {
   "codemirror_mode": {
    "name": "ipython",
    "version": 3
   },
   "file_extension": ".py",
   "mimetype": "text/x-python",
   "name": "python",
   "nbconvert_exporter": "python",
   "pygments_lexer": "ipython3",
   "version": "3.11.5"
  }
 },
 "nbformat": 4,
 "nbformat_minor": 5
}

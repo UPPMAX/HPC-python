{
 "cells": [
  {
   "cell_type": "markdown",
   "id": "7329a439-ba6f-4d2f-b204-47631fe8f263",
   "metadata": {},
   "source": [
    "# Seaborn Exercises\n",
    "\n",
    "Here you will try to produce a few plots with Seaborn using the Penguins Dataset. All of the plotting commands are doable in 1 line. We won't worry about typesetting the axes labels here.\n",
    "\n",
    "Don't worry if you see a bunch of FutureWarnings. In many of these functions, there's a Pandas GroupBy operation happening under the hood that uses some slightly dated syntax. There's nothing you can do to fix or silence it.\n",
    "\n",
    "0. Import Seaborn"
   ]
  },
  {
   "cell_type": "code",
   "execution_count": 12,
   "id": "873f1a08-eb62-4181-83cf-71b2bc4b8f84",
   "metadata": {
    "tags": []
   },
   "outputs": [],
   "source": [
    "import seaborn as sb"
   ]
  },
  {
   "cell_type": "markdown",
   "id": "15ab7a05-8761-4a2a-954f-d5b8640568ee",
   "metadata": {},
   "source": [
    "1. Load the penguins dataset. Use a Pandas method on the dataset to view the variables (you can choose which). You won't need to import Pandas to do this; Seaborn imports it implicitly (you would, however, need to import it to use Pandas functions that are not methods of the dataset)."
   ]
  },
  {
   "cell_type": "code",
   "execution_count": null,
   "id": "f2c0aa1e-a2b8-430c-aeaa-ca0e2de2310f",
   "metadata": {
    "tags": []
   },
   "outputs": [],
   "source": [
    "\n"
   ]
  },
  {
   "cell_type": "markdown",
   "id": "186adc52-e2ce-40f7-aecb-3b0c6edf1d84",
   "metadata": {},
   "source": [
    "2. Make a jointplot of 'body_mass_g' and 'flipper_length_mm'. Then, watch what happens when you add `hue='species` and rerun the cell."
   ]
  },
  {
   "cell_type": "code",
   "execution_count": null,
   "id": "79cfcb53-8d34-45bb-8b19-be5b9dda1498",
   "metadata": {
    "tags": []
   },
   "outputs": [],
   "source": []
  },
  {
   "cell_type": "markdown",
   "id": "3e25d737-dcfa-41d8-8bd3-c1ad375b29c2",
   "metadata": {},
   "source": [
    "3. Create a pairplot of the penguins data, with the data colored by the penguins' species and showing only data on or below the diagonal (i.e. make it a corner plot)."
   ]
  },
  {
   "cell_type": "code",
   "execution_count": null,
   "id": "af98acc4-3e3b-47f3-8942-b938cbb4144b",
   "metadata": {
    "tags": []
   },
   "outputs": [],
   "source": []
  },
  {
   "cell_type": "markdown",
   "id": "893593d3-707e-40cf-bdf5-4cbaa37fbe64",
   "metadata": {},
   "source": [
    "4. Make a violin plot of the penguins' body masses (y) by species (x). Color and split the data by sex."
   ]
  },
  {
   "cell_type": "code",
   "execution_count": null,
   "id": "a3dcdc99-3dc3-4593-945d-25a801e7152f",
   "metadata": {
    "tags": []
   },
   "outputs": [],
   "source": []
  },
  {
   "cell_type": "markdown",
   "id": "7c116387-58ba-4085-ac9f-b537f487b134",
   "metadata": {},
   "source": [
    "5. Make a swarm plot the penguins' body masses (y) by species (x), and this time color the data by 'island'."
   ]
  },
  {
   "cell_type": "code",
   "execution_count": null,
   "id": "f781a334-adea-4fd9-8302-c974764cabc2",
   "metadata": {
    "tags": []
   },
   "outputs": [],
   "source": []
  },
  {
   "cell_type": "markdown",
   "id": "21b21f0f-c74b-4391-a4d1-66f481daa93f",
   "metadata": {},
   "source": [
    "## You did it!"
   ]
  }
 ],
 "metadata": {
  "kernelspec": {
   "display_name": "Python 3 (ipykernel)",
   "language": "python",
   "name": "python3"
  },
  "language_info": {
   "codemirror_mode": {
    "name": "ipython",
    "version": 3
   },
   "file_extension": ".py",
   "mimetype": "text/x-python",
   "name": "python",
   "nbconvert_exporter": "python",
   "pygments_lexer": "ipython3",
   "version": "3.11.5"
  }
 },
 "nbformat": 4,
 "nbformat_minor": 5
}
